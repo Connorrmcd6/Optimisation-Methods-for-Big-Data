{
 "cells": [
  {
   "cell_type": "markdown",
   "metadata": {},
   "source": [
    "Before you turn this problem in, make sure everything runs as expected. First, **restart the kernel** (in the menubar, select Kernel$\\rightarrow$Restart) and then **run all cells** (in the menubar, select Cell$\\rightarrow$Run All).\n",
    "\n",
    "Make sure you fill in any place that says `YOUR CODE HERE` or \"YOUR ANSWER HERE\", as well as your name and collaborators below:"
   ]
  },
  {
   "cell_type": "code",
   "execution_count": 1,
   "metadata": {},
   "outputs": [],
   "source": [
    "NAME = \"Connor McDonald\"\n",
    "StudentNumber = \"u16040725\""
   ]
  },
  {
   "cell_type": "markdown",
   "metadata": {},
   "source": [
    "---"
   ]
  },
  {
   "cell_type": "markdown",
   "metadata": {
    "deletable": false,
    "editable": false,
    "nbgrader": {
     "cell_type": "markdown",
     "checksum": "363637bf9234c1d1f7b1d91b3694afa8",
     "grade": false,
     "grade_id": "cell-7dde6d5d97a365d1",
     "locked": true,
     "schema_version": 3,
     "solution": false
    }
   },
   "source": [
    "# MIT 804 2021: Homework 3, part 1 [10 points]\n",
    "## Python 101 and Hill Vanilla Climbing\n",
    "\n",
    "**You will learn how to:**\n",
    "- Use jupyter notebook\n",
    "- Get comfortable with numpy\n",
    "- Implement parts vanilla hill climbing\n",
    "\n",
    "By Dr Vukosi Marivate - vukosi.marivate@cs.up.ac.za\n",
    "\n",
    "For MIT 804, University of Pretoria"
   ]
  },
  {
   "cell_type": "markdown",
   "metadata": {
    "deletable": false,
    "editable": false,
    "nbgrader": {
     "cell_type": "markdown",
     "checksum": "881a7e14a3743ac1b4e0fdfc9808c367",
     "grade": false,
     "grade_id": "cell-289a4ce55ad09b5a",
     "locked": true,
     "schema_version": 3,
     "solution": false
    }
   },
   "source": [
    "## 1 Packages ##\n",
    "\n",
    "Here are the packages you will be using for this assignment.\n",
    "- [numpy](www.numpy.org) is the fundamental package for scientific computing with Python.\n",
    "- [matplotlib](http://matplotlib.org) is a library for plotting graphs in Python.\n",
    "\n",
    "A quick crash course on Python and numpy can be found here [Python Numpy Tutorial](http://cs231n.github.io/python-numpy-tutorial/) (**Note**: For now we are just focused on numpy)"
   ]
  },
  {
   "cell_type": "code",
   "execution_count": 2,
   "metadata": {
    "deletable": false,
    "editable": false,
    "nbgrader": {
     "cell_type": "code",
     "checksum": "15186ca186a05971ef03ef5691b9f307",
     "grade": false,
     "grade_id": "cell-2c3eb4d323b75825",
     "locked": true,
     "schema_version": 3,
     "solution": false,
     "task": false
    }
   },
   "outputs": [],
   "source": [
    "import numpy as np\n",
    "import matplotlib.pyplot as plt"
   ]
  },
  {
   "cell_type": "markdown",
   "metadata": {},
   "source": [
    "## 2 Generate some data [1 dimension] ##\n",
    "\n"
   ]
  },
  {
   "cell_type": "code",
   "execution_count": 3,
   "metadata": {
    "deletable": false,
    "editable": false,
    "nbgrader": {
     "cell_type": "code",
     "checksum": "dba5e59ecd5790afefd64d17281cb9e0",
     "grade": false,
     "grade_id": "cell-4657126b8c1893f3",
     "locked": true,
     "schema_version": 3,
     "solution": false,
     "task": false
    }
   },
   "outputs": [
    {
     "name": "stdout",
     "output_type": "stream",
     "text": [
      "[-10  -9  -8  -7  -6  -5  -4  -3  -2  -1   0   1   2   3   4   5   6   7\n",
      "   8   9  10]\n"
     ]
    }
   ],
   "source": [
    "x_range = np.arange(-10,11,1) # Generate numbers from -10 to 10 as stps of one\n",
    "print(x_range) # Print out the numbers"
   ]
  },
  {
   "cell_type": "markdown",
   "metadata": {},
   "source": [
    "## 3 Create a fitness function, through a python function [3 points]\n",
    "\n",
    "We would like to create our first fitness function. It will be a simple square function. But because we will be maximising, we will make it negated.\n",
    "\n",
    "output = $-(x-2)^2+7$\n",
    "\n",
    "**Hint**: Use the `np.square` function or **2 "
   ]
  },
  {
   "cell_type": "code",
   "execution_count": 4,
   "metadata": {
    "deletable": false,
    "nbgrader": {
     "cell_type": "code",
     "checksum": "6a6be54d15df0281f54202cda90f3b86",
     "grade": false,
     "grade_id": "fitness",
     "locked": false,
     "schema_version": 3,
     "solution": true
    }
   },
   "outputs": [],
   "source": [
    "def fitness_function(x):\n",
    "    output = -1*(x-2)**2 +7\n",
    "#     raise NotImplementedError()\n",
    "    return output"
   ]
  },
  {
   "cell_type": "code",
   "execution_count": 5,
   "metadata": {
    "deletable": false,
    "editable": false,
    "nbgrader": {
     "cell_type": "code",
     "checksum": "ba916d63f24b5217b8b70f3d2bb29abb",
     "grade": true,
     "grade_id": "correct_fitness",
     "locked": true,
     "points": 3,
     "schema_version": 3,
     "solution": false
    }
   },
   "outputs": [],
   "source": [
    "\"\"\"Check that squares returns the correct output for several inputs\"\"\"\n",
    "assert fitness_function(1) == 6\n",
    "assert fitness_function(2) == 7\n",
    "assert fitness_function(-3) == -18"
   ]
  },
  {
   "cell_type": "code",
   "execution_count": 6,
   "metadata": {},
   "outputs": [
    {
     "name": "stdout",
     "output_type": "stream",
     "text": [
      "x input:  [-17, -16, -15, -14, -13, -12, -11, -10, -9, -8, -7, -6, -5, -4, -3, -2, -1, 0, 1, 2, 3, 4, 5, 6, 7, 8, 9, 10, 11, 12, 13, 14, 15, 16, 17, 18, 19, 20]\n",
      "fitness ouput:  [-354, -317, -282, -249, -218, -189, -162, -137, -114, -93, -74, -57, -42, -29, -18, -9, -2, 3, 6, 7, 6, 3, -2, -9, -18, -29, -42, -57, -74, -93, -114, -137, -162, -189, -218, -249, -282, -317]\n"
     ]
    }
   ],
   "source": [
    "# Create a range of x values from 10 to 10 with step size 1\n",
    "x_range = range(-17,21,1)\n",
    "\n",
    "output_list = []\n",
    "for x in x_range: # Loop through the x values\n",
    "    output = fitness_function(x) # Calculate the fitness function\n",
    "    output_list.append(output) # Store the fitness function in the python list\n",
    "\n",
    "print(\"x input: \", list(x_range))\n",
    "print(\"fitness ouput: \",output_list)"
   ]
  },
  {
   "cell_type": "markdown",
   "metadata": {},
   "source": [
    "## 4 Plot the fitness function function"
   ]
  },
  {
   "cell_type": "code",
   "execution_count": 7,
   "metadata": {},
   "outputs": [
    {
     "data": {
      "text/plain": [
       "Text(0, 0.5, 'fitness')"
      ]
     },
     "execution_count": 7,
     "metadata": {},
     "output_type": "execute_result"
    },
    {
     "data": {
      "image/png": "[encoded data removed]",
      "text/plain": [
       "<Figure size 576x360 with 1 Axes>"
      ]
     },
     "metadata": {
      "needs_background": "light"
     },
     "output_type": "display_data"
    }
   ],
   "source": [
    "plt.figure(figsize=(8,5)) # Set the figure size\n",
    "plt.plot(x_range,output_list) # Simple plot, x vs fitness function\n",
    "plt.grid() # Put a grid\n",
    "\n",
    "# Label the plot\n",
    "plt.xlabel(\"x\")\n",
    "plt.ylabel(\"fitness\")"
   ]
  },
  {
   "cell_type": "markdown",
   "metadata": {
    "deletable": false,
    "editable": false,
    "nbgrader": {
     "cell_type": "markdown",
     "checksum": "8832fd42106ec8f97146e93a97caaa6c",
     "grade": false,
     "grade_id": "cell-2575d1b324fb4f28",
     "locked": true,
     "schema_version": 3,
     "solution": false
    }
   },
   "source": [
    "## 5 Hill Climbing [4 points]\n",
    "\n",
    "You will now impliment the hill climbing algorithm. You will implement the main loop in the algorithm. I\n",
    "n python ou can pass function as a variable. \n",
    "\n",
    "For hill climbing\n",
    "\n",
    "**Inputs**: 'fitness_function', max_iterations\n",
    "\n",
    "Steps for **you** to implment:\n",
    "1. Initialise $x$ (**Hint**: use the `np.random.randint` function to initialise the initial $x$ as an integer between -20, and 20)\n",
    "2. Create $y$, a neighbour or next sample by adding a random number between -1.0 and 1.0 to $x$,  (**Hint**: use the `np.random.uniform` function)\n",
    "\n",
    "**Output**: best_x (the best x we have found), best_fitness_value_history (to keep track of the best values we have found)"
   ]
  },
  {
   "cell_type": "code",
   "execution_count": 8,
   "metadata": {
    "deletable": false,
    "nbgrader": {
     "cell_type": "code",
     "checksum": "06052895a895c98e1809ef6425aa7770",
     "grade": false,
     "grade_id": "hill_climbing",
     "locked": false,
     "schema_version": 3,
     "solution": true
    }
   },
   "outputs": [],
   "source": [
    "def hill_climbing(fitness_function, max_iteration = 10):\n",
    "    \"\"\"\n",
    "    Vanilla hill climbing. Input is the fitness function, and the maximum number of iterations \n",
    "    \"\"\"\n",
    "    \n",
    "    ## Initialise the x value\n",
    "    x = np.random.randint(-20,21)\n",
    "#     raise NotImplementedError()\n",
    "    \n",
    "    # Default initial values for the best we have seen\n",
    "    best_x = x\n",
    "    best_fitness_value = fitness_function(x) # calculate the initial fitness function for x\n",
    "    \n",
    "    iteration = 0\n",
    "    best_fitness_value_history = [] # We want to keep a history of what we have seen in the past in terms of best fitness\n",
    "    while iteration < max_iteration:\n",
    "        \n",
    "        # Create y\n",
    "        y = x + np.random.uniform(-1,1)\n",
    "#         raise NotImplementedError()\n",
    "        \n",
    "        y_fitness = fitness_function(y)\n",
    "        if y_fitness > best_fitness_value: # If new fitness value is better than the best we have seen in the past, update\n",
    "            best_x = y # Update best x\n",
    "            best_fitness_value = y_fitness # Update best fitness value\n",
    "            best_fitness_value_history.append(best_fitness_value) # Store best_finess_value history\n",
    "            x = y # update x\n",
    "        iteration += 1 # update number of iterations\n",
    "        \n",
    "    return best_x, best_fitness_value_history"
   ]
  },
  {
   "cell_type": "code",
   "execution_count": 9,
   "metadata": {
    "deletable": false,
    "editable": false,
    "nbgrader": {
     "cell_type": "code",
     "checksum": "17a068697a0d8b2594dbb6b78dbf8925",
     "grade": true,
     "grade_id": "correct_hill_climbing",
     "locked": true,
     "points": 4,
     "schema_version": 3,
     "solution": false
    }
   },
   "outputs": [],
   "source": [
    "# We should converge to near 2\n",
    "best_x, best_fitness_value_history = hill_climbing(fitness_function, max_iteration= 200)\n",
    "assert best_x < 2.1\n",
    "assert best_x > 1.9\n",
    "best_x, best_fitness_value_history = hill_climbing(fitness_function, max_iteration= 200)\n",
    "assert best_x < 2.1\n",
    "assert best_x > 1.9\n",
    "best_x, best_fitness_value_history = hill_climbing(fitness_function, max_iteration= 200)\n",
    "assert best_x < 2.1\n",
    "assert best_x > 1.9"
   ]
  },
  {
   "cell_type": "code",
   "execution_count": 10,
   "metadata": {
    "deletable": false,
    "editable": false,
    "nbgrader": {
     "cell_type": "code",
     "checksum": "54afd62de3bf0de63ec697adf6ed62ea",
     "grade": false,
     "grade_id": "cell-8ac1fbfbd426a96e",
     "locked": true,
     "schema_version": 3,
     "solution": false
    }
   },
   "outputs": [
    {
     "name": "stdout",
     "output_type": "stream",
     "text": [
      "Best X: 2.002217670003602, Best Fitness 6.999995081939755\n"
     ]
    }
   ],
   "source": [
    "print(\"Best X: %s, Best Fitness %s\" % (best_x, fitness_function(best_x)))"
   ]
  },
  {
   "cell_type": "markdown",
   "metadata": {
    "deletable": false,
    "editable": false,
    "nbgrader": {
     "cell_type": "markdown",
     "checksum": "2bd6bc05b85b4716e08033b20b5f32f2",
     "grade": false,
     "grade_id": "cell-bb4def9bc4a35656",
     "locked": true,
     "schema_version": 3,
     "solution": false,
     "task": false
    }
   },
   "source": [
    "## Lets look at the optimisation or learning curve"
   ]
  },
  {
   "cell_type": "code",
   "execution_count": 11,
   "metadata": {
    "deletable": false,
    "editable": false,
    "nbgrader": {
     "cell_type": "code",
     "checksum": "bb57fa7ce8cb1f6d841e022b7bc9658e",
     "grade": false,
     "grade_id": "cell-d5ae334b7f4d9b33",
     "locked": true,
     "schema_version": 3,
     "solution": false
    }
   },
   "outputs": [
    {
     "data": {
      "text/plain": [
       "Text(0.5, 1.0, 'History of best_fitness_value saves')"
      ]
     },
     "execution_count": 11,
     "metadata": {},
     "output_type": "execute_result"
    },
    {
     "data": {
      "image/png": "[encoded data removed]",
      "text/plain": [
       "<Figure size 576x360 with 1 Axes>"
      ]
     },
     "metadata": {
      "needs_background": "light"
     },
     "output_type": "display_data"
    }
   ],
   "source": [
    "plt.figure(figsize=(8,5)) # Set the figure size\n",
    "plt.plot(best_fitness_value_history, linewidth=3)\n",
    "plt.grid()\n",
    "# Label the plot\n",
    "plt.xlabel(\"save step\")\n",
    "plt.ylabel(\"fitness\")\n",
    "plt.title(\"History of best_fitness_value saves\")"
   ]
  },
  {
   "cell_type": "markdown",
   "metadata": {
    "deletable": false,
    "editable": false,
    "nbgrader": {
     "cell_type": "markdown",
     "checksum": "af6a514c9184d33c9364ed2aaa203dad",
     "grade": false,
     "grade_id": "cell-4e69cee69b4d83c0",
     "locked": true,
     "schema_version": 3,
     "solution": false
    }
   },
   "source": [
    "## 6 Hill Climbing Behaviour [3 points]\n",
    "\n",
    "What do you observe in the behavour of hill climbing when you look at the 'History of best_fitness_value saves'? \n",
    "\n",
    "**Note:** At least 1 sentence per point"
   ]
  },
  {
   "cell_type": "markdown",
   "metadata": {
    "deletable": false,
    "nbgrader": {
     "cell_type": "markdown",
     "checksum": "f2457fc8832236aea931339bef064868",
     "grade": true,
     "grade_id": "observation",
     "locked": false,
     "points": 3,
     "schema_version": 3,
     "solution": true
    }
   },
   "source": [
    "-The plot of this algorithm highlights the \"greedy\" characteristic of the hill climbing algorthm, meaning that the plot should never decrease as it only accepts the succesive point if it is a greater value than the current point.\n",
    "\n",
    "-Furthermore, a new plot is generated each time the code is run due to the random component. However, they all trace out the same general pattern as they converge on an optimal value, the only difference being that some runs take more steps than others. This shows the importance of selecting a starting point close to the optimal value rather than picking one blindly.\n",
    "\n",
    "-This plot highlights one of the major flaws of the hill climbing algorithm, which is that it will converge on a local optimum which is closest to the starting point and not necessarily the global optimum. This function would not have worked as accurately if our function had more than one local maximum."
   ]
  }
 ],
 "metadata": {
  "kernelspec": {
   "display_name": "Python 3",
   "language": "python",
   "name": "python3"
  },
  "language_info": {
   "codemirror_mode": {
    "name": "ipython",
    "version": 3
   },
   "file_extension": ".py",
   "mimetype": "text/x-python",
   "name": "python",
   "nbconvert_exporter": "python",
   "pygments_lexer": "ipython3",
   "version": "3.8.3"
  }
 },
 "nbformat": 4,
 "nbformat_minor": 2
}
