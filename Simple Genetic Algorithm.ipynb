{
 "cells": [
  {
   "cell_type": "markdown",
   "metadata": {},
   "source": [
    "Before you turn this problem in, make sure everything runs as expected. First, **restart the kernel** (in the menubar, select Kernel$\\rightarrow$Restart) and then **run all cells** (in the menubar, select Cell$\\rightarrow$Run All).\n",
    "\n",
    "Make sure you fill in any place that says `YOUR CODE HERE` or \"YOUR ANSWER HERE\", as well as your name and collaborators below:"
   ]
  },
  {
   "cell_type": "code",
   "execution_count": 1,
   "metadata": {},
   "outputs": [],
   "source": [
    "NAME = \"Connor McDonald\"\n",
    "StudentNumber = \"u16040725\""
   ]
  },
  {
   "cell_type": "markdown",
   "metadata": {},
   "source": [
    "---"
   ]
  },
  {
   "cell_type": "markdown",
   "metadata": {},
   "source": [
    "# MIT 804 2021: Homework 3, part 3 [15 points]\n",
    "## Genetic Algorithm and the travelling salesman problem\n",
    "\n",
    "**You will learn how to:**\n",
    "- Create a genetic algorithm\n",
    "- Solve the travelling salesman problem"
   ]
  },
  {
   "cell_type": "code",
   "execution_count": 2,
   "metadata": {},
   "outputs": [],
   "source": [
    "import numpy as np\n",
    "import matplotlib.pyplot as plt"
   ]
  },
  {
   "cell_type": "markdown",
   "metadata": {},
   "source": [
    "## 1 The Travelling Salesman Problem\n",
    "\n",
    "\n",
    "For this problem, we will first initialise the cities in our travelling salesman problem."
   ]
  },
  {
   "cell_type": "code",
   "execution_count": 3,
   "metadata": {},
   "outputs": [
    {
     "name": "stdout",
     "output_type": "stream",
     "text": [
      "City Positions:  [array([ 8, 94]), array([44, 12]), array([71, 59]), array([19, 42]), array([24, 71])]\n"
     ]
    }
   ],
   "source": [
    "def initialise_city(num_dim, limit = 100):\n",
    "    X = np.random.randint(0,limit,size=num_dim)\n",
    "    return X\n",
    "\n",
    "def initialise_cities(num_cities):\n",
    "    cities = []\n",
    "    for i in range(num_cities):\n",
    "        cities.append(initialise_city(2))\n",
    "    return cities\n",
    "num_cities = 5\n",
    "cities = initialise_cities(num_cities)\n",
    "print(\"City Positions: \", cities)"
   ]
  },
  {
   "cell_type": "markdown",
   "metadata": {},
   "source": [
    "### 1.1 Distance between ordered cities [5 points]\n",
    "\n",
    "Given a visit order (the order cities should be visited) calculate the straight line distance between the cities. The easiest way, given two points $X$ and $Y$, calculate the square distance (euclidean distnce) between two points.\n",
    "\n",
    "$d(X,Y) = \\sqrt{(X_1-Y_1)^2 + (X_2-Y_2)^2}$\n",
    "\n",
    "In the distance function, you must calciulate the distance between the cities in visit order.\n",
    "\n",
    "So if the visit order is [3, 2, 1, 0], it means we start at city 3, then move to city 2 and then move to city 1. So the distances will be the distance between city 3 and city 2 added to the distances between city 2 and city 1 and then added to the distance between city 1 and city 0."
   ]
  },
  {
   "cell_type": "code",
   "execution_count": 4,
   "metadata": {
    "deletable": false,
    "nbgrader": {
     "cell_type": "code",
     "checksum": "7cfedb17da396610deaf72994c28eb41",
     "grade": false,
     "grade_id": "distance",
     "locked": false,
     "schema_version": 3,
     "solution": true
    }
   },
   "outputs": [],
   "source": [
    "def distance_function(cities, visit_order):\n",
    "    distance = 0.0\n",
    "    def euclid(p1, p2):\n",
    "        d = 0 \n",
    "        for i in range(0,2):\n",
    "            d += (p1[i] - p2[i])**2\n",
    "        return np.sqrt(d)\n",
    "    for i in range(1, len(visit_order)):\n",
    "        distance += euclid(cities[visit_order[i]], cities[visit_order[i-1]])\n",
    "    return -1.0*distance"
   ]
  },
  {
   "cell_type": "code",
   "execution_count": 5,
   "metadata": {
    "deletable": false,
    "editable": false,
    "nbgrader": {
     "cell_type": "code",
     "checksum": "76d6d2c330075eb813afe3a706dc2ed1",
     "grade": true,
     "grade_id": "distance_test",
     "locked": true,
     "points": 2,
     "schema_version": 3,
     "solution": false
    },
    "scrolled": true
   },
   "outputs": [],
   "source": [
    "visit_order = [0, 1, 2, 3, 4]\n",
    "cities_simple = np.array([[0,0],[1,1],[2,2],[3,3],[4,4]])\n",
    "dist = distance_function(cities_simple, visit_order)\n",
    "assert dist == -4.0*np.sqrt(2)"
   ]
  },
  {
   "cell_type": "markdown",
   "metadata": {},
   "source": [
    "## Lets plot the cities and a random path between them"
   ]
  },
  {
   "cell_type": "code",
   "execution_count": 6,
   "metadata": {
    "deletable": false,
    "editable": false,
    "nbgrader": {
     "cell_type": "code",
     "checksum": "8f873488f7f0b71c9fd1c3182969aee0",
     "grade": false,
     "grade_id": "cell-61c1139db4733f4f",
     "locked": true,
     "schema_version": 3,
     "solution": false,
     "task": false
    }
   },
   "outputs": [
    {
     "data": {
      "image/png": "[encoded data removed]",
      "text/plain": [
       "<Figure size 576x576 with 1 Axes>"
      ]
     },
     "metadata": {
      "needs_background": "light"
     },
     "output_type": "display_data"
    }
   ],
   "source": [
    "plt.figure(figsize=(8,8)) # Set the figure size\n",
    "city_list = ['A','B','C','D','E']\n",
    "x_axis = np.array(cities)[:,0]\n",
    "y_axis = np.array(cities)[:,1]\n",
    "plt.scatter(x_axis,y_axis,color = 'r')\n",
    "plt.grid()\n",
    "for i, txt in enumerate(city_list):\n",
    "    plt.annotate(txt, (x_axis[i], y_axis[i]), size = 14)\n",
    "\n",
    "for j in range(len(visit_order)-1):\n",
    "    plt.plot(x_axis[[visit_order[j],visit_order[j+1]]],y_axis[[visit_order[j],visit_order[j+1]]], color = 'k')"
   ]
  },
  {
   "cell_type": "markdown",
   "metadata": {
    "deletable": false,
    "editable": false,
    "nbgrader": {
     "cell_type": "markdown",
     "checksum": "f744c6aea5103c9ee96dc5789de94947",
     "grade": false,
     "grade_id": "cell-de6d761e32a70c1c",
     "locked": true,
     "schema_version": 3,
     "solution": false
    }
   },
   "source": [
    "## 2 Genetic Algorithm\n",
    "\n",
    "\n",
    "### 2.1 Chromosome and populaton [2 points]\n",
    "For this problem, we will first initialise a chromosome. To make it easy, the chromosome will be the order in which we visit the cities. So if we have 4 cities. \n",
    "\n",
    "Chromosome **[0,2,3,1]** will mean we start with city 0, then move to city 2, then city 3 and finally city 1. \n",
    "\n",
    "Hint: use np.random.permutation."
   ]
  },
  {
   "cell_type": "code",
   "execution_count": 7,
   "metadata": {
    "deletable": false,
    "nbgrader": {
     "cell_type": "code",
     "checksum": "2543b4276c16cb585e12c83b7f37fd24",
     "grade": false,
     "grade_id": "genetic_algorithm_initialise",
     "locked": false,
     "schema_version": 3,
     "solution": true
    }
   },
   "outputs": [],
   "source": [
    "def initialise_chromosome(chromosome_size):\n",
    "    chromosome = np.random.permutation(np.arange(0,chromosome_size,1))\n",
    "    return chromosome\n",
    "def initialise_population(population_size, chromosome_size):\n",
    "    population = []\n",
    "    for i in range(0, population_size):\n",
    "        population.append(initialise_chromosome(chromosome_size))\n",
    "#     raise NotImplementedError()\n",
    "    return population"
   ]
  },
  {
   "cell_type": "code",
   "execution_count": 8,
   "metadata": {
    "deletable": false,
    "editable": false,
    "nbgrader": {
     "cell_type": "code",
     "checksum": "57527ca58a34a5c12da9a97d6203c532",
     "grade": true,
     "grade_id": "genetic_algorithm_initialise_test",
     "locked": true,
     "points": 2,
     "schema_version": 3,
     "solution": false
    }
   },
   "outputs": [],
   "source": [
    "chromosome = initialise_chromosome(5)\n",
    "assert len(chromosome) == 5\n",
    "population = initialise_population(10,6)\n",
    "assert len(population[0]) == 6\n",
    "assert len(population) == 10"
   ]
  },
  {
   "cell_type": "markdown",
   "metadata": {},
   "source": [
    "### 2.2 Calculate fitness\n",
    "\n",
    "Calculate the fitness, when you have an ordering of visits."
   ]
  },
  {
   "cell_type": "code",
   "execution_count": 9,
   "metadata": {
    "deletable": false,
    "nbgrader": {
     "cell_type": "code",
     "checksum": "091b0173f822b79f8b2aeaefc79890a8",
     "grade": false,
     "grade_id": "genetic_algorithm_fitness",
     "locked": false,
     "schema_version": 3,
     "solution": true
    }
   },
   "outputs": [],
   "source": [
    "def calculate_fitness(population, cities,  fitness_function):\n",
    "    fitness_list = []\n",
    "    for i in population:\n",
    "        fitness_list.append(fitness_function(cities, i))\n",
    "    return fitness_list"
   ]
  },
  {
   "cell_type": "code",
   "execution_count": 10,
   "metadata": {
    "deletable": false,
    "editable": false,
    "nbgrader": {
     "cell_type": "code",
     "checksum": "824e9fe05d25ed4938c3416708dcedd9",
     "grade": true,
     "grade_id": "genetic_algorithm_fitness_test",
     "locked": true,
     "points": 2,
     "schema_version": 3,
     "solution": false
    }
   },
   "outputs": [],
   "source": [
    "cities = np.array([[0,0],[1,1],[1,2]])\n",
    "population = [[0,1,2],[0,2,1]]\n",
    "fitness_list = calculate_fitness(population, cities, distance_function)\n",
    "assert len(fitness_list) == 2\n",
    "assert fitness_list[0] == -2.414213562373095\n",
    "assert fitness_list[1] == -3.23606797749979"
   ]
  },
  {
   "cell_type": "markdown",
   "metadata": {
    "deletable": false,
    "editable": false,
    "nbgrader": {
     "cell_type": "markdown",
     "checksum": "15345317d61ebc0ec92924a4fdaaa186",
     "grade": false,
     "grade_id": "cell-6fa6add0cfc41506",
     "locked": true,
     "schema_version": 3,
     "solution": false,
     "task": false
    }
   },
   "source": [
    "### 2.3 Selection. Pairing, Crossover and Mutation\n",
    "\n",
    "This is were the magic happens. You will be giving the selection and pairing code. You must implement the child generation and mutation code."
   ]
  },
  {
   "cell_type": "code",
   "execution_count": 11,
   "metadata": {
    "deletable": false,
    "editable": false,
    "nbgrader": {
     "cell_type": "code",
     "checksum": "d4100caf1ff796f56ebe5f1eef0a5dc6",
     "grade": false,
     "grade_id": "cell-4eb220c612b5cb3e",
     "locked": true,
     "schema_version": 3,
     "solution": false,
     "task": false
    }
   },
   "outputs": [],
   "source": [
    "def selection(population, fitness_list):\n",
    "    ## Select the top half of the best of the population\n",
    "    population = np.array(population)\n",
    "    sorted_indices = np.argsort(fitness_list)\n",
    "    selection_point = int(1+ len(fitness_list)/2)\n",
    "    \n",
    "    # Randomply permute this top half of the poulation\n",
    "    indices = np.random.choice(sorted_indices[:selection_point], len(population))\n",
    "    best_population = population[indices]\n",
    "    return best_population\n",
    "\n",
    "def pairing(selected_population):\n",
    "    ## pair up parents that will be used to reproduce\n",
    "    count = 0\n",
    "    pairs = []\n",
    "    while count < len(selected_population)-1:\n",
    "        index = count\n",
    "        pairs.append([selected_population[index],selected_population[index+1]])\n",
    "        count +=2\n",
    "    return pairs"
   ]
  },
  {
   "cell_type": "markdown",
   "metadata": {},
   "source": [
    "### 2.3.1 Create child, reproduce [4 points]\n",
    "\n",
    "You must implement the child generation. Given that the chromosomes here have to be ordered, you cannot simply do a cross-over as it might result in an invalid visit order (The same city listed more than once). To make it possible, you must implement a cross over that takes:\n",
    "\n",
    "* a section of a chromosome from **parent a** (choose a random start and end point). For example starting with gene 2 up to gene 5 of **parent a**,\n",
    "* and then fills in the rest of the chromosome with an ordered list from **parent b**\n",
    "* without repeating the genes that we got from **parent a**.\n",
    "\n",
    "An example is shown below\n",
    "\n",
    "**Step 1:**\n",
    "\n",
    "Parent A - [3, 2, 1, 4, 0, 5]\n",
    "Parent B - [1, 3, 2, 5, 0, 4]\n",
    "\n",
    "**Step 2:** Choose start and end point in Parent A\n",
    "\n",
    "Parent A - [ x, x, **1, 4, 0**, x]\n",
    "\n",
    "**Step 3:** Create child starting with *Parent A* and then fill with the missing chromosomes (in sequence) from *Parent B*\n",
    "\n",
    "Parent B: [x, **3, 2, 5**, x, x]\n",
    "\n",
    "Finally \n",
    "\n",
    "Child - [1, 4, 0, 3, 2, 5]"
   ]
  },
  {
   "cell_type": "code",
   "execution_count": 12,
   "metadata": {
    "deletable": false,
    "nbgrader": {
     "cell_type": "code",
     "checksum": "7b0d9402e90657059c49f95d83d1fc2e",
     "grade": false,
     "grade_id": "genetic_algorithm_reproduction",
     "locked": false,
     "schema_version": 3,
     "solution": true
    }
   },
   "outputs": [],
   "source": [
    "def create_child(a,b):\n",
    "    child = []\n",
    "    p1 =np.random.randint(len(a))\n",
    "    p2 =np.random.randint(len(a))\n",
    "    while abs(p1-p2) == len(a) -1: #make sure that it takes genes from both parents\n",
    "        p2 =np.random.randint(len(a))  \n",
    "    start = min(p1,p2)\n",
    "    end = max(p1,p2)\n",
    "    pa =[]\n",
    "    pb =[]\n",
    "    for i in range(start, end +1):\n",
    "        pa.append(a[i])\n",
    "    for i in b:\n",
    "        if i not in pa:\n",
    "            pb.append(i)\n",
    "    child = pa + pb\n",
    "    return child\n",
    "\n",
    "def cross_over(pairs):    \n",
    "    final_population = []\n",
    "    for a,b in pairs:\n",
    "        child = create_child(a,b)\n",
    "        final_population.append(child)\n",
    "        child = create_child(b,a)\n",
    "        final_population.append(child)\n",
    "    return final_population"
   ]
  },
  {
   "cell_type": "code",
   "execution_count": 13,
   "metadata": {
    "deletable": false,
    "editable": false,
    "nbgrader": {
     "cell_type": "code",
     "checksum": "09e9070ca0e5667e0428bf25307f811d",
     "grade": true,
     "grade_id": "genetic_algorithm_reproduction_test",
     "locked": true,
     "points": 2,
     "schema_version": 3,
     "solution": false
    }
   },
   "outputs": [],
   "source": [
    "pairs = [[[0,1,2],[0,2,1]]]\n",
    "child = create_child(pairs[0][0],pairs[0][1])\n",
    "assert len(child) == 3\n",
    "assert len(np.unique(child)) == 3\n",
    "assert np.min(child) == 0\n",
    "assert np.max(child) == 2"
   ]
  },
  {
   "cell_type": "markdown",
   "metadata": {},
   "source": [
    "### 2.3.2 Mutation\n",
    "\n",
    "You will get as input a population of chrosmosomes. For each chromosome, you can can randomly pick a point to **SWAP** genes. You can choose to swap genes next to each other or randomly anywhere in the chromosome.\n",
    "\n",
    "*Input:* Population of chromosomes\n",
    "*Output:* Population of chromosomes with randomly swaped genes"
   ]
  },
  {
   "cell_type": "code",
   "execution_count": 14,
   "metadata": {
    "deletable": false,
    "nbgrader": {
     "cell_type": "code",
     "checksum": "8db15713e9a4fd5d5f6f86ab4efdf160",
     "grade": false,
     "grade_id": "genetic_algorithm_mutation",
     "locked": false,
     "schema_version": 3,
     "solution": true
    }
   },
   "outputs": [],
   "source": [
    "def mutation(population):\n",
    "    final_population = []\n",
    "    for i in population:\n",
    "        p1 = np.random.randint(0,len(i))\n",
    "        p2 = np.random.randint(0,len(i))\n",
    "        \n",
    "        if p1 != p2: # when different genes are selected\n",
    "            i[p1], i[p2] = i[p2], i[p1]\n",
    "        elif p1 == len(i)-1: #when the same gene is selected and it is the last gene\n",
    "            p2 = p1 - 1\n",
    "            i[p1], i[p2] = i[p2], i[p1]\n",
    "        else: # when the same gene is selected and it is not the last gene\n",
    "            p2 = p1 + 1\n",
    "            i[p1], i[p2] = i[p2], i[p1]\n",
    "\n",
    "    final_population = population\n",
    "    \n",
    "    return final_population"
   ]
  },
  {
   "cell_type": "code",
   "execution_count": 15,
   "metadata": {
    "deletable": false,
    "editable": false,
    "nbgrader": {
     "cell_type": "code",
     "checksum": "91dedf08e25fcf9ea4b8e4576dd5d8a6",
     "grade": true,
     "grade_id": "genetic_algorithm_mutation_test",
     "locked": true,
     "points": 2,
     "schema_version": 3,
     "solution": false
    }
   },
   "outputs": [],
   "source": [
    "population = [[0,1]]\n",
    "output = mutation(population)\n",
    "assert len(output) == 1\n",
    "assert len(output[0]) == 2\n",
    "assert output[0] == [1,0]\n",
    "population = [[0,1,2]]\n",
    "output = mutation(population)\n",
    "assert len(output) == 1\n",
    "assert len(output[0]) == 3\n",
    "assert output[0] != [[0,1,2]]\n",
    "assert output[0] == [1,0,2] or output[0] == [2,1,0] or output[0] == [2,0,1] or output[0] == [0, 2, 1]"
   ]
  },
  {
   "cell_type": "markdown",
   "metadata": {
    "deletable": false,
    "editable": false,
    "nbgrader": {
     "cell_type": "markdown",
     "checksum": "6907aa5df41b66ec1ca482bfac613cfa",
     "grade": false,
     "grade_id": "cell-5ca6995da7cb4107",
     "locked": true,
     "schema_version": 3,
     "solution": false,
     "task": false
    }
   },
   "source": [
    "### 2.3.3 Putting it all together"
   ]
  },
  {
   "cell_type": "code",
   "execution_count": 16,
   "metadata": {
    "deletable": false,
    "editable": false,
    "nbgrader": {
     "cell_type": "code",
     "checksum": "d9d4fa4ae7f48aee31ed839a379fb202",
     "grade": false,
     "grade_id": "cell-e06d6b8ef1d6ca1b",
     "locked": true,
     "schema_version": 3,
     "solution": false,
     "task": false
    }
   },
   "outputs": [],
   "source": [
    "num_cities = 10\n",
    "population_size = 100\n",
    "num_iterations = 1000\n",
    "cities = initialise_cities(num_cities)"
   ]
  },
  {
   "cell_type": "code",
   "execution_count": 17,
   "metadata": {},
   "outputs": [],
   "source": [
    "num_cities = 10\n",
    "population_size = 200\n",
    "num_iterations = 1000\n",
    "cities = initialise_cities(num_cities)"
   ]
  },
  {
   "cell_type": "code",
   "execution_count": 18,
   "metadata": {
    "deletable": false,
    "editable": false,
    "nbgrader": {
     "cell_type": "code",
     "checksum": "d2f066e52463d9dfb3285ff618b0f515",
     "grade": false,
     "grade_id": "cell-35c9fcf9f0b6f46b",
     "locked": true,
     "schema_version": 3,
     "solution": false,
     "task": false
    }
   },
   "outputs": [
    {
     "data": {
      "text/plain": [
       "Text(0.5, 0, 'X Axis')"
      ]
     },
     "execution_count": 18,
     "metadata": {},
     "output_type": "execute_result"
    },
    {
     "data": {
      "image/png": "[encoded data removed]",
      "text/plain": [
       "<Figure size 432x432 with 1 Axes>"
      ]
     },
     "metadata": {
      "needs_background": "light"
     },
     "output_type": "display_data"
    }
   ],
   "source": [
    "plt.figure(figsize=(6,6)) # Set the figure size\n",
    "x_axis = np.array(cities)[:,0]\n",
    "y_axis = np.array(cities)[:,1]\n",
    "plt.scatter(x_axis,y_axis,color = 'r')\n",
    "plt.grid()\n",
    "plt.title(\"Wakanda cities (2D)\")\n",
    "plt.ylabel(\"Y Axis\")\n",
    "plt.xlabel(\"X Axis\")"
   ]
  },
  {
   "cell_type": "code",
   "execution_count": 28,
   "metadata": {},
   "outputs": [
    {
     "name": "stdout",
     "output_type": "stream",
     "text": [
      "Distances:  [-707.0, -754.0, -731.0, -732.0, -757.0]\n",
      "Population:  [[4, 9, 0, 2, 6, 3, 8, 5, 1, 7], [5, 3, 8, 6, 1, 2, 9, 4, 7, 0], [7, 3, 2, 0, 6, 8, 5, 9, 4, 1], [0, 6, 9, 5, 3, 4, 8, 2, 1, 7], [8, 7, 0, 3, 5, 4, 2, 9, 1, 6]]\n",
      "Best chromosome:  [2, 8, 0, 9, 5, 6, 7, 4, 3, 1]\n",
      "Best (shortest) distance:  -317.0\n"
     ]
    }
   ],
   "source": [
    "# Genetic Algorithm\n",
    "\n",
    "population = initialise_population(population_size,num_cities)\n",
    "\n",
    "best_distance = -1000000\n",
    "best_chromosome = []\n",
    "best_distance_history = []\n",
    "distance_history = []\n",
    "for i in range(num_iterations):\n",
    "    # Calculate the fitness of all chromosomes in the population\n",
    "    distances = calculate_fitness(population, cities, distance_function)\n",
    "    # If the new population has the best distance, save it.\n",
    "    if np.max(distances) > best_distance:\n",
    "        best_distance = np.max(distances)\n",
    "        best = np.argmax(distances)\n",
    "        best_chromosome = population[best]\n",
    "        best_distance_history.append(best_distance)\n",
    "    distance_history.append(np.mean(distances))\n",
    "    # 1. Do selection\n",
    "    selected_population = selection(population, distances)\n",
    "    # 2. Pair the good chromosomes \n",
    "    pairs = pairing(selected_population)\n",
    "    # 3. Reproduce with cross over\n",
    "    crossed_over = cross_over(pairs)\n",
    "    # 4. Add some randomness with mutation\n",
    "    population = mutation(crossed_over)\n",
    "\n",
    "distances = calculate_fitness(population, cities, distance_function)\n",
    "# If the new population has the best distance, save it.\n",
    "if np.max(distances) > best_distance:\n",
    "    best_distance = np.max(distances)\n",
    "    best = np.argmax(distances)\n",
    "    best_chromosome = population[best]\n",
    "    best_distance_history.append(best_distance)\n",
    "distance_history.append(np.mean(distances))\n",
    "print(\"Distances: \" ,distances[:5])\n",
    "print(\"Population: \",population[:5])\n",
    "print(\"Best chromosome: \",best_chromosome)\n",
    "print(\"Best (shortest) distance: \",best_distance)"
   ]
  },
  {
   "cell_type": "code",
   "execution_count": 20,
   "metadata": {},
   "outputs": [
    {
     "data": {
      "image/png": "[encoded data removed]",
      "text/plain": [
       "<Figure size 576x576 with 1 Axes>"
      ]
     },
     "metadata": {
      "needs_background": "light"
     },
     "output_type": "display_data"
    }
   ],
   "source": [
    "plt.figure(figsize=(8,8)) # Set the figure size\n",
    "x_axis = np.array(cities)[:,0]\n",
    "y_axis = np.array(cities)[:,1]\n",
    "plt.scatter(x_axis,y_axis,color = 'r')\n",
    "plt.grid()\n",
    "plt.ylabel(\"Y Axis\")\n",
    "plt.xlabel(\"X Axis\")\n",
    "plt.title(\"Wakanda 'Optimal' city visits\")\n",
    "visit_order = best_chromosome\n",
    "for j in range(len(visit_order)-1):\n",
    "    plt.plot(x_axis[[visit_order[j],visit_order[j+1]]],y_axis[[visit_order[j],visit_order[j+1]]], color = 'k')"
   ]
  },
  {
   "cell_type": "code",
   "execution_count": 21,
   "metadata": {},
   "outputs": [
    {
     "data": {
      "text/plain": [
       "Text(0.5, 0, 'Sample number')"
      ]
     },
     "execution_count": 21,
     "metadata": {},
     "output_type": "execute_result"
    },
    {
     "data": {
      "image/png": "[encoded data removed]",
      "text/plain": [
       "<Figure size 576x360 with 1 Axes>"
      ]
     },
     "metadata": {
      "needs_background": "light"
     },
     "output_type": "display_data"
    }
   ],
   "source": [
    "plt.figure(figsize= (8,5))\n",
    "plt.plot(best_distance_history)\n",
    "plt.title(\"History of best distance found\")\n",
    "plt.grid()\n",
    "plt.xlabel(\"Sample number\")"
   ]
  },
  {
   "cell_type": "code",
   "execution_count": 22,
   "metadata": {},
   "outputs": [
    {
     "data": {
      "text/plain": [
       "Text(0.5, 0, 'Sample number')"
      ]
     },
     "execution_count": 22,
     "metadata": {},
     "output_type": "execute_result"
    },
    {
     "data": {
      "image/png": "[encoded data removed]",
      "text/plain": [
       "<Figure size 576x360 with 1 Axes>"
      ]
     },
     "metadata": {
      "needs_background": "light"
     },
     "output_type": "display_data"
    }
   ],
   "source": [
    "plt.figure(figsize= (8,5))\n",
    "plt.plot(distance_history)\n",
    "plt.title(\"History of means all distances explored\")\n",
    "plt.grid()\n",
    "plt.xlabel(\"Sample number\")"
   ]
  },
  {
   "cell_type": "markdown",
   "metadata": {},
   "source": [
    "### 2.4 Observations [5 points]\n",
    "1. What do you observe with the behaviour of the Genetic Algorithm? [2 points]\n",
    "2. What happens when you increase the number of cities? [1 points]\n",
    "3. What happens when you increase the populations size? [1 points]\n",
    "4. How can you improve this Genetic Algorithm? [1 points]"
   ]
  },
  {
   "cell_type": "markdown",
   "metadata": {
    "deletable": false,
    "nbgrader": {
     "cell_type": "markdown",
     "checksum": "913ff0091410129fd67c467fb3316366",
     "grade": true,
     "grade_id": "cell-b18babac77be4eed",
     "locked": false,
     "points": 5,
     "schema_version": 3,
     "solution": true
    }
   },
   "source": [
    "1. We observe the evolutionary nature of the algorithm as we can see it achieves better solutions with each generation, this is ensured by the breeding and mutation algorithms which combine the best chromosomes in attempt to make a better onr. Furthermore, we observe that the algorithm often finds a good solution, but not always the best solution and that when running the solution multiple times over the same set of points, we observe that the best distance achieved is different each time. This highlights the fact the randomness allows the algorithm to avoid local minimums but also hinders the ability to settle on a global maximum.\n",
    "\n",
    "2. When increasing the number of cities, the algorithm takes significantly longer as there are exponentially more combinations that can occur within the chromosome, this also creates a lot more \"good enough\" solutions that the algorithm may settle on instead of the global optimum.\n",
    "\n",
    "3. Increasing the population size also slows down the algorithm, however it allows for more possible solutions to be explored in each generation and typically arrives at a solution in a fewer number of generations than an algorithm with a smaller population. Whilst a smaller population requires more generations, it also runs faster and so one should consider whether their contraints fall on the computation time or on the number of generations permitted when making a decision of what population size to use.\n",
    "\n",
    "4. I would improve this algorithm by incorporating some form of elitism where the best N solutions of each generation are protected from breeding or mutation to prevent them from worsening. "
   ]
  },
  {
   "cell_type": "markdown",
   "metadata": {},
   "source": [
    "# 2.5 Extra Credit [3 points]\n",
    "\n",
    "## 2.5.1 Manhattan distance\n",
    "\n",
    "Can you change the distance function to now be the [Manhattan Distance](https://xlinux.nist.gov/dads/HTML/manhattanDistance.html)\n",
    "\n"
   ]
  },
  {
   "cell_type": "code",
   "execution_count": 23,
   "metadata": {
    "deletable": false,
    "nbgrader": {
     "cell_type": "code",
     "checksum": "9e4e48df67a6f77b46f25f151e603d04",
     "grade": true,
     "grade_id": "cell-b7d97e9a5986ee05",
     "locked": false,
     "points": 1,
     "schema_version": 3,
     "solution": true,
     "task": false
    }
   },
   "outputs": [],
   "source": [
    "def distance_function(cities, visit_order):\n",
    "    distance = 0\n",
    "    def manhattan(p1, p2):\n",
    "        d = 0 \n",
    "        for i in range(0,2):\n",
    "            d += abs(p1[i] - p2[i])\n",
    "        return d\n",
    "\n",
    "    for i in range(1, len(visit_order)):\n",
    "        distance += manhattan(cities[visit_order[i]], cities[visit_order[i-1]])\n",
    "        \n",
    "    return -1.0*distance\n",
    "\n",
    "def calculate_fitness_new(population, cities,  fitness_function):\n",
    "    fitness_list = []\n",
    "    for i in population:\n",
    "        fitness_list.append(fitness_function(cities, i))\n",
    "    return fitness_list"
   ]
  },
  {
   "cell_type": "code",
   "execution_count": 24,
   "metadata": {
    "deletable": false,
    "editable": false,
    "nbgrader": {
     "cell_type": "code",
     "checksum": "c342baa5de8aedd2fe3473ab4d46ec92",
     "grade": false,
     "grade_id": "cell-eadbcee3283d0989",
     "locked": true,
     "schema_version": 3,
     "solution": false,
     "task": false
    }
   },
   "outputs": [
    {
     "name": "stdout",
     "output_type": "stream",
     "text": [
      "Distances:  [-782.0, -824.0, -608.0, -685.0, -673.0]\n",
      "Population:  [[9, 4, 6, 3, 8, 7, 2, 1, 5, 0], [0, 6, 8, 7, 2, 1, 5, 3, 4, 9], [2, 7, 1, 8, 0, 5, 9, 4, 3, 6], [0, 3, 8, 7, 2, 6, 9, 5, 4, 1], [8, 2, 3, 4, 9, 5, 1, 0, 7, 6]]\n",
      "Best chromosome:  [8, 0, 2, 5, 7, 4, 6, 9, 1, 3]\n",
      "Best (shortest) distance:  -337.0\n"
     ]
    }
   ],
   "source": [
    "# Genetic Algorithm with Manhattan Distance\n",
    "best_distance = -1000000\n",
    "best_chromosome = []\n",
    "best_distance_history = []\n",
    "distance_history = []\n",
    "for i in range(num_iterations):\n",
    "    # Calculate the fitness of all chromosomes in the population\n",
    "    distances = calculate_fitness_new(population, cities, distance_function)\n",
    "    # If the new population has the best distance, save it.\n",
    "    if np.max(distances) > best_distance:\n",
    "        best_distance = np.max(distances)\n",
    "        best = np.argmax(distances)\n",
    "        best_chromosome = population[best]\n",
    "        best_distance_history.append(best_distance)\n",
    "    distance_history.append(np.mean(distances))\n",
    "    # 1. Do selection\n",
    "    selected_population = selection(population, distances)\n",
    "    # 2. Pair the good chromosomes \n",
    "    pairs = pairing(selected_population)\n",
    "    # 3. Reproduce with cross over\n",
    "    crossed_over = cross_over(pairs)\n",
    "    # 4. Add some randomness with mutation\n",
    "    population = mutation(crossed_over)\n",
    "\n",
    "distances = calculate_fitness(population, cities, distance_function)\n",
    "# If the new population has the best distance, save it.\n",
    "if np.max(distances) > best_distance:\n",
    "    best_distance = np.max(distances)\n",
    "    best = np.argmax(distances)\n",
    "    best_chromosome = population[best]\n",
    "    best_distance_history.append(best_distance)\n",
    "distance_history.append(np.mean(distances))\n",
    "print(\"Distances: \" ,distances[:5])\n",
    "print(\"Population: \",population[:5])\n",
    "print(\"Best chromosome: \",best_chromosome)\n",
    "print(\"Best (shortest) distance: \",best_distance)"
   ]
  },
  {
   "cell_type": "markdown",
   "metadata": {
    "deletable": false,
    "editable": false,
    "nbgrader": {
     "cell_type": "markdown",
     "checksum": "c7da2cf7911b26b06fd34537af74333f",
     "grade": false,
     "grade_id": "cell-f05a6290733ac589",
     "locked": true,
     "schema_version": 3,
     "solution": false,
     "task": false
    }
   },
   "source": [
    "### 2.5.2 Observations\n",
    "\n",
    "1. Can you comment on what happes with the new distance function [2 points]"
   ]
  },
  {
   "cell_type": "markdown",
   "metadata": {
    "deletable": false,
    "nbgrader": {
     "cell_type": "markdown",
     "checksum": "3aa5ff55a879367aa9d1eca298bb8913",
     "grade": true,
     "grade_id": "cell-4bfab0bbc3e4900c",
     "locked": false,
     "points": 2,
     "schema_version": 3,
     "solution": true,
     "task": false
    }
   },
   "source": [
    "NB: I changed the name of the Manhattan distance function from \"distance_function_new\" to \"distance_function\" as the Manhattan GA was using the Euclidien distance and I was unable to edit this block. \n",
    "\n",
    "1. At first glance it appears that the algorithm using Manhattan distance consistently performs worse than the algorithm using Euclidien distance. However this is due to the way in which the distances are calculated. If we plot two arbitrary points the Manhattan distance can only be greater than or equal to the Euclidien distance at best. And so judging the performance of the algorithms based on the \"best distance\" is actually incorrect since the distances themselves are calculated completely differently. When reducing the number of cities down to 3 it is very common to achieve the same \"best chromosome\" which shows that when the algorithm is given enough generations to evolve, the algorithms can still converge on the same solution. In a real world traveling salesman problem, the Manhattan distance may prove to be better since roads are generally structured in a grid-like fashion which is how Manhattan distance is calculated, this would likely lead to a better prediction of total distance."
   ]
  }
 ],
 "metadata": {
  "kernelspec": {
   "display_name": "Python 3",
   "language": "python",
   "name": "python3"
  },
  "language_info": {
   "codemirror_mode": {
    "name": "ipython",
    "version": 3
   },
   "file_extension": ".py",
   "mimetype": "text/x-python",
   "name": "python",
   "nbconvert_exporter": "python",
   "pygments_lexer": "ipython3",
   "version": "3.8.3"
  }
 },
 "nbformat": 4,
 "nbformat_minor": 2
}
