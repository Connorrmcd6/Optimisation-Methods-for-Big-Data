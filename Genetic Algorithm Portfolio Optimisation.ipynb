{
 "cells": [
  {
   "cell_type": "markdown",
   "metadata": {},
   "source": [
    "Before you turn this problem in, make sure everything runs as expected. First, **restart the kernel** (in the menubar, select Kernel$\\rightarrow$Restart) and then **run all cells** (in the menubar, select Cell$\\rightarrow$Run All).\n",
    "\n",
    "Make sure you fill in any place that says `YOUR CODE HERE` or \"YOUR ANSWER HERE\", as well as your name and collaborators below:"
   ]
  },
  {
   "cell_type": "code",
   "execution_count": 1,
   "metadata": {},
   "outputs": [],
   "source": [
    "NAME = \"Connor McDonald\"\n",
    "StudentNumber = \"u16040725\""
   ]
  },
  {
   "cell_type": "markdown",
   "metadata": {},
   "source": [
    "---"
   ]
  },
  {
   "cell_type": "markdown",
   "metadata": {
    "deletable": false,
    "editable": false,
    "nbgrader": {
     "cell_type": "markdown",
     "checksum": "6ae3680901b343a584c9002cf17c0172",
     "grade": false,
     "grade_id": "cell-c98274c610c27674",
     "locked": true,
     "schema_version": 3,
     "solution": false,
     "task": false
    }
   },
   "source": [
    "# MIT 804 2021: Homework 3, part 4 [25 points]\n",
    "## Genetic Algorithm and the JSE\n",
    "\n",
    "**You will learn how to:**\n",
    "- Solve the portfolio allocation problem with a genetic algorithm\n",
    "\n",
    "Data is from [https://github.com/dsfsi/dsfsi-datasets](https://github.com/dsfsi/dsfsi-datasets)"
   ]
  },
  {
   "cell_type": "code",
   "execution_count": 2,
   "metadata": {
    "deletable": false,
    "editable": false,
    "nbgrader": {
     "cell_type": "code",
     "checksum": "b4b63ce4bca3911f2013513e760ae778",
     "grade": false,
     "grade_id": "cell-7e08b7ad8521a206",
     "locked": true,
     "schema_version": 3,
     "solution": false,
     "task": false
    }
   },
   "outputs": [],
   "source": [
    "import numpy as np\n",
    "import pandas as pd\n",
    "import matplotlib.pyplot as plt"
   ]
  },
  {
   "cell_type": "code",
   "execution_count": 3,
   "metadata": {
    "deletable": false,
    "editable": false,
    "nbgrader": {
     "cell_type": "code",
     "checksum": "283617941526f495be84e04c6a7f8e02",
     "grade": false,
     "grade_id": "cell-7c302d8a01bc799b",
     "locked": true,
     "schema_version": 3,
     "solution": false,
     "task": false
    }
   },
   "outputs": [],
   "source": [
    "import os\n",
    "import urllib.request\n",
    "\n",
    "filename = \"top40_jse_2021_performance.csv\"\n",
    "if not os.path.isfile(filename):\n",
    "    url = \"https://raw.githubusercontent.com/dsfsi/dsfsi-datasets/master/data/stocks/top40_jse_2021_performance.csv\"\n",
    "    urllib.request.urlretrieve(url, filename)"
   ]
  },
  {
   "cell_type": "code",
   "execution_count": 4,
   "metadata": {
    "deletable": false,
    "editable": false,
    "nbgrader": {
     "cell_type": "code",
     "checksum": "8595292ab887c58f8a8b775e055b4aaf",
     "grade": false,
     "grade_id": "cell-3eb0e993993a4827",
     "locked": true,
     "schema_version": 3,
     "solution": false,
     "task": false
    }
   },
   "outputs": [
    {
     "data": {
      "text/html": [
       "<div>\n",
       "<style scoped>\n",
       "    .dataframe tbody tr th:only-of-type {\n",
       "        vertical-align: middle;\n",
       "    }\n",
       "\n",
       "    .dataframe tbody tr th {\n",
       "        vertical-align: top;\n",
       "    }\n",
       "\n",
       "    .dataframe thead th {\n",
       "        text-align: right;\n",
       "    }\n",
       "</style>\n",
       "<table border=\"1\" class=\"dataframe\">\n",
       "  <thead>\n",
       "    <tr style=\"text-align: right;\">\n",
       "      <th></th>\n",
       "      <th>PRX</th>\n",
       "      <th>ANH</th>\n",
       "      <th>NPN</th>\n",
       "      <th>BTI</th>\n",
       "      <th>GLN</th>\n",
       "      <th>CFR</th>\n",
       "      <th>BHP</th>\n",
       "      <th>AGL</th>\n",
       "      <th>AMS</th>\n",
       "      <th>FSR</th>\n",
       "      <th>...</th>\n",
       "      <th>PPH</th>\n",
       "      <th>OMU</th>\n",
       "      <th>BVT</th>\n",
       "      <th>CLS</th>\n",
       "      <th>REM</th>\n",
       "      <th>MCG</th>\n",
       "      <th>MRP</th>\n",
       "      <th>ARI</th>\n",
       "      <th>WHL</th>\n",
       "      <th>EXX</th>\n",
       "    </tr>\n",
       "    <tr>\n",
       "      <th>Date</th>\n",
       "      <th></th>\n",
       "      <th></th>\n",
       "      <th></th>\n",
       "      <th></th>\n",
       "      <th></th>\n",
       "      <th></th>\n",
       "      <th></th>\n",
       "      <th></th>\n",
       "      <th></th>\n",
       "      <th></th>\n",
       "      <th></th>\n",
       "      <th></th>\n",
       "      <th></th>\n",
       "      <th></th>\n",
       "      <th></th>\n",
       "      <th></th>\n",
       "      <th></th>\n",
       "      <th></th>\n",
       "      <th></th>\n",
       "      <th></th>\n",
       "      <th></th>\n",
       "    </tr>\n",
       "  </thead>\n",
       "  <tbody>\n",
       "    <tr>\n",
       "      <th>2021-01-04</th>\n",
       "      <td>159202.0</td>\n",
       "      <td>103934.0</td>\n",
       "      <td>303695.0</td>\n",
       "      <td>55100.0</td>\n",
       "      <td>4964.0</td>\n",
       "      <td>13462.0</td>\n",
       "      <td>40605.0</td>\n",
       "      <td>51374.0</td>\n",
       "      <td>151216.0</td>\n",
       "      <td>4950.0</td>\n",
       "      <td>...</td>\n",
       "      <td>1326.0</td>\n",
       "      <td>1164.0</td>\n",
       "      <td>15526.0</td>\n",
       "      <td>25368.0</td>\n",
       "      <td>9510.0</td>\n",
       "      <td>13301.0</td>\n",
       "      <td>16689.0</td>\n",
       "      <td>27553.0</td>\n",
       "      <td>3907.0</td>\n",
       "      <td>14894.0</td>\n",
       "    </tr>\n",
       "    <tr>\n",
       "      <th>2021-01-05</th>\n",
       "      <td>165757.0</td>\n",
       "      <td>105282.0</td>\n",
       "      <td>311667.0</td>\n",
       "      <td>56900.0</td>\n",
       "      <td>5105.0</td>\n",
       "      <td>13747.0</td>\n",
       "      <td>41750.0</td>\n",
       "      <td>52356.0</td>\n",
       "      <td>145650.0</td>\n",
       "      <td>4811.0</td>\n",
       "      <td>...</td>\n",
       "      <td>1302.0</td>\n",
       "      <td>1134.0</td>\n",
       "      <td>15081.0</td>\n",
       "      <td>25628.0</td>\n",
       "      <td>9516.0</td>\n",
       "      <td>13335.0</td>\n",
       "      <td>16458.0</td>\n",
       "      <td>27610.0</td>\n",
       "      <td>3837.0</td>\n",
       "      <td>14546.0</td>\n",
       "    </tr>\n",
       "    <tr>\n",
       "      <th>2021-01-06</th>\n",
       "      <td>165753.0</td>\n",
       "      <td>108600.0</td>\n",
       "      <td>310100.0</td>\n",
       "      <td>57834.0</td>\n",
       "      <td>5612.0</td>\n",
       "      <td>13615.0</td>\n",
       "      <td>44140.0</td>\n",
       "      <td>55970.0</td>\n",
       "      <td>146903.0</td>\n",
       "      <td>4878.0</td>\n",
       "      <td>...</td>\n",
       "      <td>1300.0</td>\n",
       "      <td>1152.0</td>\n",
       "      <td>15414.0</td>\n",
       "      <td>25543.0</td>\n",
       "      <td>9600.0</td>\n",
       "      <td>13299.0</td>\n",
       "      <td>16156.0</td>\n",
       "      <td>27285.0</td>\n",
       "      <td>3801.0</td>\n",
       "      <td>14741.0</td>\n",
       "    </tr>\n",
       "    <tr>\n",
       "      <th>2021-01-07</th>\n",
       "      <td>160297.0</td>\n",
       "      <td>110500.0</td>\n",
       "      <td>301375.0</td>\n",
       "      <td>58404.0</td>\n",
       "      <td>5777.0</td>\n",
       "      <td>14368.0</td>\n",
       "      <td>45777.0</td>\n",
       "      <td>58548.0</td>\n",
       "      <td>151000.0</td>\n",
       "      <td>5038.0</td>\n",
       "      <td>...</td>\n",
       "      <td>1292.0</td>\n",
       "      <td>1200.0</td>\n",
       "      <td>15452.0</td>\n",
       "      <td>25396.0</td>\n",
       "      <td>9820.0</td>\n",
       "      <td>13666.0</td>\n",
       "      <td>16027.0</td>\n",
       "      <td>28067.0</td>\n",
       "      <td>3819.0</td>\n",
       "      <td>15499.0</td>\n",
       "    </tr>\n",
       "    <tr>\n",
       "      <th>2021-01-08</th>\n",
       "      <td>160091.0</td>\n",
       "      <td>107658.0</td>\n",
       "      <td>307027.0</td>\n",
       "      <td>58130.0</td>\n",
       "      <td>5692.0</td>\n",
       "      <td>14348.0</td>\n",
       "      <td>45615.0</td>\n",
       "      <td>58217.0</td>\n",
       "      <td>149548.0</td>\n",
       "      <td>5231.0</td>\n",
       "      <td>...</td>\n",
       "      <td>1347.0</td>\n",
       "      <td>1206.0</td>\n",
       "      <td>15736.0</td>\n",
       "      <td>26241.0</td>\n",
       "      <td>10043.0</td>\n",
       "      <td>13987.0</td>\n",
       "      <td>16661.0</td>\n",
       "      <td>28850.0</td>\n",
       "      <td>4016.0</td>\n",
       "      <td>15761.0</td>\n",
       "    </tr>\n",
       "  </tbody>\n",
       "</table>\n",
       "<p>5 rows × 40 columns</p>\n",
       "</div>"
      ],
      "text/plain": [
       "                 PRX       ANH       NPN      BTI     GLN      CFR      BHP  \\\n",
       "Date                                                                          \n",
       "2021-01-04  159202.0  103934.0  303695.0  55100.0  4964.0  13462.0  40605.0   \n",
       "2021-01-05  165757.0  105282.0  311667.0  56900.0  5105.0  13747.0  41750.0   \n",
       "2021-01-06  165753.0  108600.0  310100.0  57834.0  5612.0  13615.0  44140.0   \n",
       "2021-01-07  160297.0  110500.0  301375.0  58404.0  5777.0  14368.0  45777.0   \n",
       "2021-01-08  160091.0  107658.0  307027.0  58130.0  5692.0  14348.0  45615.0   \n",
       "\n",
       "                AGL       AMS     FSR  ...     PPH     OMU      BVT      CLS  \\\n",
       "Date                                   ...                                     \n",
       "2021-01-04  51374.0  151216.0  4950.0  ...  1326.0  1164.0  15526.0  25368.0   \n",
       "2021-01-05  52356.0  145650.0  4811.0  ...  1302.0  1134.0  15081.0  25628.0   \n",
       "2021-01-06  55970.0  146903.0  4878.0  ...  1300.0  1152.0  15414.0  25543.0   \n",
       "2021-01-07  58548.0  151000.0  5038.0  ...  1292.0  1200.0  15452.0  25396.0   \n",
       "2021-01-08  58217.0  149548.0  5231.0  ...  1347.0  1206.0  15736.0  26241.0   \n",
       "\n",
       "                REM      MCG      MRP      ARI     WHL      EXX  \n",
       "Date                                                             \n",
       "2021-01-04   9510.0  13301.0  16689.0  27553.0  3907.0  14894.0  \n",
       "2021-01-05   9516.0  13335.0  16458.0  27610.0  3837.0  14546.0  \n",
       "2021-01-06   9600.0  13299.0  16156.0  27285.0  3801.0  14741.0  \n",
       "2021-01-07   9820.0  13666.0  16027.0  28067.0  3819.0  15499.0  \n",
       "2021-01-08  10043.0  13987.0  16661.0  28850.0  4016.0  15761.0  \n",
       "\n",
       "[5 rows x 40 columns]"
      ]
     },
     "execution_count": 4,
     "metadata": {},
     "output_type": "execute_result"
    }
   ],
   "source": [
    "df = pd.read_csv(filename,index_col='Date')\n",
    "df.head()"
   ]
  },
  {
   "cell_type": "markdown",
   "metadata": {
    "deletable": false,
    "editable": false,
    "nbgrader": {
     "cell_type": "markdown",
     "checksum": "7bb3a1f49c4183ceb8405e764a48da0a",
     "grade": false,
     "grade_id": "cell-cf0ffa9601dc8fd6",
     "locked": true,
     "schema_version": 3,
     "solution": false,
     "task": false
    }
   },
   "source": [
    "## A plot of the top stock"
   ]
  },
  {
   "cell_type": "code",
   "execution_count": 5,
   "metadata": {
    "deletable": false,
    "editable": false,
    "nbgrader": {
     "cell_type": "code",
     "checksum": "7264450b11119079916f77fd59543ccd",
     "grade": false,
     "grade_id": "cell-6904f3e330962b48",
     "locked": true,
     "schema_version": 3,
     "solution": false,
     "task": false
    }
   },
   "outputs": [
    {
     "data": {
      "text/plain": [
       "Text(0, 0.5, 'Stock Price, ZAR')"
      ]
     },
     "execution_count": 5,
     "metadata": {},
     "output_type": "execute_result"
    },
    {
     "data": {
      "image/png": "[encoded data removed]",
      "text/plain": [
       "<Figure size 1152x648 with 1 Axes>"
      ]
     },
     "metadata": {
      "needs_background": "light"
     },
     "output_type": "display_data"
    }
   ],
   "source": [
    "df.PRX.plot(figsize = (16,9),linewidth=4)\n",
    "plt.grid()\n",
    "plt.title(\"JSE Performance Company - PRX\")\n",
    "plt.ylabel(\"Stock Price, ZAR\")"
   ]
  },
  {
   "cell_type": "markdown",
   "metadata": {},
   "source": [
    "## 1 Stock Portfolio Allocation\n",
    "\n",
    "A popular question that is asked to ML researchers is why we dont work on predicting stock market performance so that we can pick stocks to invest in. There are many reasons for this, one being that past performance does not say much about future perfomance. In this notebook we will take a look at this problem through trying to put together a stock portfolio that would have done well through the latter shock of COVID19 in Q1 2021. \n",
    "\n",
    "### 1.1 Weighting our portfolio [2 points]\n",
    "\n",
    "For this problem, we will start with a weighting of the stocks. Use the `np.random.rand` function to create a random weighting for `num_dim` stocks. The weighting should always add up to 1.0 so you must adjust for this. "
   ]
  },
  {
   "cell_type": "code",
   "execution_count": 6,
   "metadata": {
    "deletable": false,
    "nbgrader": {
     "cell_type": "code",
     "checksum": "7628c294a3e5e40d4819335ddc470c92",
     "grade": false,
     "grade_id": "weighting_answer",
     "locked": false,
     "schema_version": 3,
     "solution": true,
     "task": false
    }
   },
   "outputs": [],
   "source": [
    "def initialise_weighting(num_dim):\n",
    "    nums = np.random.rand(1, num_dim)[0]\n",
    "    weighting =[]\n",
    "    for i in nums:\n",
    "        weighting.append(i/sum(nums))\n",
    "    return weighting"
   ]
  },
  {
   "cell_type": "code",
   "execution_count": 7,
   "metadata": {
    "deletable": false,
    "editable": false,
    "nbgrader": {
     "cell_type": "code",
     "checksum": "1eec8580d9e90b060bb21042296c8091",
     "grade": true,
     "grade_id": "weighting_test",
     "locked": true,
     "points": 2,
     "schema_version": 3,
     "solution": false,
     "task": false
    }
   },
   "outputs": [],
   "source": [
    "num_dim = 10\n",
    "weighting = initialise_weighting(num_dim)\n",
    "assert len(weighting) == 10\n",
    "assert np.sum(weighting) < 1.00000001\n",
    "assert np.sum(weighting) > 0.99999999"
   ]
  },
  {
   "cell_type": "markdown",
   "metadata": {
    "deletable": false,
    "editable": false,
    "nbgrader": {
     "cell_type": "markdown",
     "checksum": "87b02322f2de04f951080bdebf52aa9b",
     "grade": false,
     "grade_id": "cell-a298de0427b17cd4",
     "locked": true,
     "schema_version": 3,
     "solution": false,
     "task": false
    }
   },
   "source": [
    "### 1.2 Adjusting weight to Budget [2 points]\n",
    "\n",
    "We now need to calculate the amount of allocated money to each stock and then calculate how many stocks would have been purchased per specific day.\n",
    "\n",
    "**Note**: We are assuming we are buying an instrument such as an ETF, so we can buy fractions of stocks. "
   ]
  },
  {
   "cell_type": "code",
   "execution_count": 8,
   "metadata": {
    "deletable": false,
    "nbgrader": {
     "cell_type": "code",
     "checksum": "41853574f3f7f60dd1fcb353502917ba",
     "grade": false,
     "grade_id": "cell-8f362ba98aeea8af",
     "locked": false,
     "schema_version": 3,
     "solution": true,
     "task": false
    }
   },
   "outputs": [],
   "source": [
    "def adjust_stocks_by_weighting(budget, weighting, stock_prices):\n",
    "    budget_allocation = []\n",
    "    stock_weighting = []\n",
    "    for i in weighting:\n",
    "        budget_allocation.append(i*budget)\n",
    "\n",
    "    for i in range(len(budget_allocation)):\n",
    "        stock_weighting.append(budget_allocation[i]/stock_prices[i])\n",
    "    stock_weighting = np.array(stock_weighting)\n",
    "    \n",
    "    return stock_weighting"
   ]
  },
  {
   "cell_type": "code",
   "execution_count": 9,
   "metadata": {},
   "outputs": [
    {
     "data": {
      "text/plain": [
       "array([1.  , 0.5 , 0.5 , 0.25, 0.2 ])"
      ]
     },
     "execution_count": 9,
     "metadata": {},
     "output_type": "execute_result"
    }
   ],
   "source": [
    "budget = 5.0\n",
    "weighting = np.array([0.2, 0.2 ,0.2 ,0.2, 0.2])\n",
    "stock_prices = np.array([1, 2, 2, 4, 5])\n",
    "adjust_stocks_by_weighting(budget, weighting, stock_prices)"
   ]
  },
  {
   "cell_type": "code",
   "execution_count": 10,
   "metadata": {
    "deletable": false,
    "editable": false,
    "nbgrader": {
     "cell_type": "code",
     "checksum": "f22da21c9906d83b265aaf9f0a7270c5",
     "grade": true,
     "grade_id": "cell-623cf8fbc40c7d99",
     "locked": true,
     "points": 2,
     "schema_version": 3,
     "solution": false,
     "task": false
    }
   },
   "outputs": [],
   "source": [
    "budget = 5.0\n",
    "weighting = np.array([0.2, 0.2 ,0.2 ,0.2, 0.2])\n",
    "stock_prices = np.array([1, 2, 2, 4, 5])\n",
    "stock_weighting = adjust_stocks_by_weighting(budget, weighting, stock_prices)\n",
    "assert len(stock_weighting) == 5\n",
    "assert stock_weighting[0] == 1.0\n",
    "assert np.isclose(stock_weighting[2],0.5,atol=0.0001)"
   ]
  },
  {
   "cell_type": "markdown",
   "metadata": {
    "deletable": false,
    "editable": false,
    "nbgrader": {
     "cell_type": "markdown",
     "checksum": "e3f2c69952b8659f79dfe79820b27b8e",
     "grade": false,
     "grade_id": "cell-51e3920ddc8bc38c",
     "locked": true,
     "schema_version": 3,
     "solution": false,
     "task": false
    }
   },
   "source": [
    "### Rules for our stock picking problem\n",
    "\n",
    "1. Every stock has its own cost that is charged per stock per month\n",
    "2. Every run of this algorithm will have a different budget given to you\n",
    "3. Non linearities are introduced by having different tiered costs added in [e.g. having more than 10 stocks in your portfolio has extra costs added per month, as well as having more then 20 etc.]\n",
    "4. We are going to assume costs are calculated daily and adjusted by the number of days in the year. Then summed. \n",
    "\n",
    "### 1.3 Calculating values and costs\n",
    "\n",
    "* Provide a simple calculation to give the complete value of the portfolio given the stock_weighting and individual stock prices. This should be implemented in `portfolio_value`\n",
    "* Calculate the cost of the porfolio given values for a specifi. Assume a \n",
    "    * *2%* per share per annum cost for up to 5 shares, \n",
    "    * *1%* per share per annum for 10 Shares (we have more than 5 unique shares, but less than 11), \n",
    "    * *0.75%* per share per annum for up to 20 shares,\n",
    "    * and a 50% cost per share per annum for more than 20 shares in the portfolio (having more then 20). \n",
    "Implement this in `portfolio_costs`    "
   ]
  },
  {
   "cell_type": "code",
   "execution_count": 11,
   "metadata": {
    "deletable": false,
    "nbgrader": {
     "cell_type": "code",
     "checksum": "045dd6e8e3cae86c2be3f5afefa132d4",
     "grade": false,
     "grade_id": "value_and_costs",
     "locked": false,
     "schema_version": 3,
     "solution": true
    }
   },
   "outputs": [],
   "source": [
    "def portfolio_value(stock_weighting, stock_prices): \n",
    "    stock_prices = np.nan_to_num(stock_prices)\n",
    "    value = stock_weighting*stock_prices\n",
    "    return np.sum(value)\n",
    "\n",
    "def portfolio_costs(stock_weighting, period_stock_values):\n",
    "    num_unique_stocks = np.sum(stock_weighting>0) ## How many unique shares do you have.\n",
    "    daily_cost = []\n",
    "    for day_stock_value in period_stock_values:\n",
    "        day_stock_value  = np.nan_to_num(day_stock_value)\n",
    "        \n",
    "        if num_unique_stocks <= 5:\n",
    "            daily_cost.append(0.02*portfolio_value(stock_weighting, day_stock_value))\n",
    "    \n",
    "        elif num_unique_stocks <= 10:\n",
    "            daily_cost.append(0.01*portfolio_value(stock_weighting, day_stock_value))\n",
    "\n",
    "        elif num_unique_stocks <= 20:\n",
    "            daily_cost.append(0.0075*portfolio_value(stock_weighting, day_stock_value))\n",
    "            \n",
    "        else:\n",
    "            daily_cost.append(0.5*portfolio_value(stock_weighting, day_stock_value)) \n",
    "\n",
    "    full_cost = np.sum(daily_cost)/365.0\n",
    "    return full_cost"
   ]
  },
  {
   "cell_type": "code",
   "execution_count": 12,
   "metadata": {
    "deletable": false,
    "editable": false,
    "nbgrader": {
     "cell_type": "code",
     "checksum": "8bd0426bcd912acf7f077a9260c1c2e4",
     "grade": true,
     "grade_id": "value_and_costs_test",
     "locked": true,
     "points": 5,
     "schema_version": 3,
     "solution": false
    }
   },
   "outputs": [],
   "source": [
    "stock_weighting = np.array([1, 1, 1, 1, 1, 1, 1, 1, 1, 1])\n",
    "stock_price = np.array([1, 1, 1, 1, 1, 1, 1, 1, 1, 1]) \n",
    "value = portfolio_value(stock_weighting, stock_price)\n",
    "assert np.isclose(value,10.0,atol=0.001)\n",
    "\n",
    "stock_weighting = np.array([1, 1, 1, 1, 1, 1, 1, 1, 1, 1])\n",
    "period_stock_values = np.array([[1, 1, 1, 1, 1, 1, 1, 1, 1, 1], [1, 1, 1, 1, 1, 1, 1, 1, 1, 1]]) # 2 Days\n",
    "full_cost = portfolio_costs(stock_weighting,period_stock_values)\n",
    "assert np.isclose(full_cost,0.02/365,atol=0.001)\n",
    "\n",
    "stock_weighting = np.array([0.25, 3.0, 1])\n",
    "period_stock_values = np.array([[100, 50, 75],[101, 44, 69],[99, 55, 68]]) # 3 Days\n",
    "full_cost = portfolio_costs(stock_weighting,period_stock_values)\n",
    "assert np.isclose(full_cost,0.04022,atol=0.0201)"
   ]
  },
  {
   "cell_type": "markdown",
   "metadata": {
    "deletable": false,
    "editable": false,
    "nbgrader": {
     "cell_type": "markdown",
     "checksum": "9d870c878fc1243f2bb36632656d9e96",
     "grade": false,
     "grade_id": "cell-de6d761e32a70c1c",
     "locked": true,
     "schema_version": 3,
     "solution": false
    }
   },
   "source": [
    "## 2 Genetic Algorithm\n",
    "\n",
    "\n",
    "### 2.1 Chromosome and populaton\n",
    "\n",
    "You would have done this in the prior assignment so we are going to write out the result."
   ]
  },
  {
   "cell_type": "code",
   "execution_count": 13,
   "metadata": {
    "deletable": false,
    "editable": false,
    "nbgrader": {
     "cell_type": "code",
     "checksum": "3e585ea0b3d82501cd5187dc39e46c2c",
     "grade": false,
     "grade_id": "genetic_algorithm_initialise",
     "locked": true,
     "schema_version": 3,
     "solution": false,
     "task": false
    }
   },
   "outputs": [],
   "source": [
    "def initialise_chromosome(chromosome_size):\n",
    "    chromosome = initialise_weighting(chromosome_size)\n",
    "    return chromosome\n",
    "def initialise_population(population_size, chromosome_size):\n",
    "    population = []\n",
    "    for i in range(population_size):\n",
    "        population.append(initialise_chromosome(chromosome_size))\n",
    "    return population"
   ]
  },
  {
   "cell_type": "code",
   "execution_count": 14,
   "metadata": {},
   "outputs": [
    {
     "data": {
      "text/plain": [
       "list"
      ]
     },
     "execution_count": 14,
     "metadata": {},
     "output_type": "execute_result"
    }
   ],
   "source": [
    "type(initialise_population(5, 2)[0])"
   ]
  },
  {
   "cell_type": "code",
   "execution_count": 15,
   "metadata": {
    "deletable": false,
    "editable": false,
    "nbgrader": {
     "cell_type": "code",
     "checksum": "a7fce585d8b0165e9788ad04ed5bdc95",
     "grade": false,
     "grade_id": "genetic_algorithm_initialise_test",
     "locked": true,
     "schema_version": 3,
     "solution": false,
     "task": false
    },
    "scrolled": true
   },
   "outputs": [
    {
     "name": "stdout",
     "output_type": "stream",
     "text": [
      "[0.03345701478470624, 0.02794899254450704, 0.00973790664279994, 0.0290976166686535, 0.016723207273194162, 0.027840863392012256, 0.0032210153908224922, 0.03588892230646781, 0.02317526943265728, 0.036394253716257895, 0.03045486329968288, 0.03825664926186866, 0.02185871909938565, 0.030724262109823992, 0.03627756369967378, 0.016690958740368765, 0.001483920337166928, 0.01710480962938713, 0.005253256124762337, 0.03461999685982851, 0.039837493614196244, 0.03209570588537759, 0.03728281252288656, 0.018529163139006162, 0.034465288515041256, 0.01715295297285866, 0.03753269316915062, 0.027950293141317112, 0.03189130967027715, 0.024219540364208435, 0.0073386225209583315, 0.04152198029906181, 0.028517536517174032, 0.0405748217943482, 0.007546527044798716, 0.029844195174706527, 0.016494517775421488, 0.0019559103817492138, 0.026707562933492877, 0.02233101124994162]\n"
     ]
    }
   ],
   "source": [
    "num_stocks = 40\n",
    "chromosome = initialise_chromosome(num_stocks)\n",
    "print(chromosome)\n",
    "population_size =10\n",
    "population = initialise_population(population_size, num_stocks)"
   ]
  },
  {
   "cell_type": "markdown",
   "metadata": {},
   "source": [
    "### 2.2 Calculate fitness\n",
    "\n",
    "Fitness the is potfolio value on the last day at hand, and the cost is the total cost since buying the stock. "
   ]
  },
  {
   "cell_type": "code",
   "execution_count": 16,
   "metadata": {
    "deletable": false,
    "editable": false,
    "nbgrader": {
     "cell_type": "code",
     "checksum": "a9b974953ca9ee9cda3e638c72ffe67b",
     "grade": false,
     "grade_id": "cell-39a54340a622fae1",
     "locked": true,
     "schema_version": 3,
     "solution": false,
     "task": false
    }
   },
   "outputs": [],
   "source": [
    "def calculate_fitness(population, budget, stock_prices_timeline):\n",
    "    fitness_list = []\n",
    "    for chromosome in population:\n",
    "        # Weighting at the beginning of the period\n",
    "        stock_weighting = adjust_stocks_by_weighting(budget ,chromosome, stock_prices_timeline.iloc[0].values) \n",
    "        \n",
    "        value = portfolio_value(stock_weighting, stock_prices_timeline.iloc[-1].values)\n",
    "        cost = portfolio_costs(stock_weighting, stock_prices_timeline.iloc[1:].values)\n",
    "        # Value at the end of the period\n",
    "        fitness_list.append(value - cost)\n",
    "    return fitness_list"
   ]
  },
  {
   "cell_type": "code",
   "execution_count": 17,
   "metadata": {
    "deletable": false,
    "editable": false,
    "nbgrader": {
     "cell_type": "code",
     "checksum": "e1cd61273751ce3d92bd8915594b9c16",
     "grade": false,
     "grade_id": "cell-941b7e8dc4f76694",
     "locked": true,
     "schema_version": 3,
     "solution": false,
     "task": false
    }
   },
   "outputs": [
    {
     "data": {
      "text/plain": [
       "[1005901.7677919407,\n",
       " 996190.1169765734,\n",
       " 996826.7362747369,\n",
       " 1028988.7682444832,\n",
       " 996285.7738876189]"
      ]
     },
     "execution_count": 17,
     "metadata": {},
     "output_type": "execute_result"
    }
   ],
   "source": [
    "budget = 1000000\n",
    "# Stock prices from the last day of January 2020\n",
    "stock_prices_timeline = df.loc[\"2020-01-31\":]\n",
    "calculate_fitness(population, budget, stock_prices_timeline)[:5]"
   ]
  },
  {
   "cell_type": "markdown",
   "metadata": {},
   "source": [
    "### 2.3 Selection. Pairing, Crossover and Mutation\n",
    "\n",
    "This is were the magic happens. You will be giving the selection and pairing code. You must implement the child generation and mutation code."
   ]
  },
  {
   "cell_type": "code",
   "execution_count": 18,
   "metadata": {
    "deletable": false,
    "editable": false,
    "nbgrader": {
     "cell_type": "code",
     "checksum": "27f69dd688f4cfd8970416a5abd7686d",
     "grade": false,
     "grade_id": "cell-246bac1128931982",
     "locked": true,
     "schema_version": 3,
     "solution": false,
     "task": false
    }
   },
   "outputs": [],
   "source": [
    "def selection(population, fitness_list):\n",
    "    ## Select the top half of the best of the population\n",
    "    population = np.array(population)\n",
    "    sorted_indices = np.argsort(fitness_list)\n",
    "    selection_point = int(1+ len(fitness_list)/2)\n",
    "    \n",
    "    # Randomply permute this top half of the poulation\n",
    "    indices = np.random.choice(sorted_indices[:selection_point], len(population))\n",
    "    best_population = population[indices]\n",
    "    return best_population\n",
    "\n",
    "def pairing(selected_population):\n",
    "    ## pair up parents that will be used to reproduce\n",
    "    count = 0\n",
    "    pairs = []\n",
    "    while count < len(selected_population)-1:\n",
    "        index = count\n",
    "        pairs.append([selected_population[index],selected_population[index+1]])\n",
    "        count +=2\n",
    "    return pairs"
   ]
  },
  {
   "cell_type": "markdown",
   "metadata": {
    "deletable": false,
    "editable": false,
    "nbgrader": {
     "cell_type": "markdown",
     "checksum": "62f29a76a120186d44d5a1063ed7b5f5",
     "grade": false,
     "grade_id": "cell-5a01ae00541bb3f9",
     "locked": true,
     "schema_version": 3,
     "solution": false,
     "task": false
    }
   },
   "source": [
    "### 2.3.1 Create child, reproduce [3 points]\n",
    "\n",
    "You must implement the child generation. This will be different from HW3 Part 3. We will use a weighted average cross over. You can come up with other ways to do this and test them yourself later.\n",
    "\n",
    "An example is shown below\n",
    "\n",
    "**Step 1:**\n",
    "\n",
    "Parent_A - [0.2, 0.2, 0.2, 0.2, 0.2]\n",
    "\n",
    "Parent_B - [0.4, 0.1, 0.1, 0.2, 0.2]\n",
    "\n",
    "**Step 2:** Randomly Weighted Average Between parents to create a child\n",
    "\n",
    "Draw weight for A randomly from 0 to 1 (use np.random.uniform()) \n",
    "\n",
    "e.g. **a_weight** = 0.5\n",
    "\n",
    "> **b_weight** = 1.0 - **a_weight**. \n",
    "\n",
    "In ths example **b_weight** =0.5\n",
    "\n",
    "\n",
    "Child - **a_weight** x Parent_A + **b_weight** x Parent_B\n",
    "\n",
    "**Finally:**\n",
    "\n",
    "Child - [0.3, 0.15, 0.15, 0.2, 0.2]"
   ]
  },
  {
   "cell_type": "code",
   "execution_count": 19,
   "metadata": {
    "deletable": false,
    "nbgrader": {
     "cell_type": "code",
     "checksum": "7b0d9402e90657059c49f95d83d1fc2e",
     "grade": false,
     "grade_id": "genetic_algorithm_reproduction",
     "locked": false,
     "schema_version": 3,
     "solution": true
    }
   },
   "outputs": [],
   "source": [
    "def create_child(a,b):\n",
    "    child = []\n",
    "    a_weight = np.random.uniform(0,1)\n",
    "    b_weight = 1 - a_weight\n",
    "    for i in range(len(a)):\n",
    "        c = a_weight*a[i] + b_weight*b[i]\n",
    "        child.append(c)\n",
    "    return child\n",
    "\n",
    "def cross_over(pairs):    \n",
    "    final_population = []\n",
    "    for a,b in pairs:\n",
    "        child = create_child(a,b)\n",
    "        final_population.append(child)\n",
    "        child = create_child(b,a)\n",
    "        final_population.append(child)\n",
    "    return final_population\n"
   ]
  },
  {
   "cell_type": "code",
   "execution_count": 20,
   "metadata": {
    "deletable": false,
    "editable": false,
    "nbgrader": {
     "cell_type": "code",
     "checksum": "f3cb65a6838d1b6621fbc515f3c84f02",
     "grade": true,
     "grade_id": "genetic_algorithm_reproduction_test",
     "locked": true,
     "points": 3,
     "schema_version": 3,
     "solution": false
    }
   },
   "outputs": [],
   "source": [
    "pairs = [[np.array([0.1,0.5,0.4]),np.array([0.2,0.3,0.5])]]\n",
    "child = create_child(pairs[0][0],pairs[0][1])\n",
    "assert len(child) == 3\n",
    "assert np.sum(child) == 1.0\n",
    "assert np.max(child) <= 1.0\n",
    "assert np.min(child) >= 0.0"
   ]
  },
  {
   "cell_type": "markdown",
   "metadata": {
    "deletable": false,
    "editable": false,
    "nbgrader": {
     "cell_type": "markdown",
     "checksum": "12ac928d76059bcf2a72d5a558239815",
     "grade": false,
     "grade_id": "cell-e799018f010cf7cf",
     "locked": true,
     "schema_version": 3,
     "solution": false,
     "task": false
    }
   },
   "source": [
    "### 2.3.2 Mutation [3 points]\n",
    "\n",
    "You will get as input a population of chrosmosomes. For each chromosome, you can can add noise to the whole chromosome. Control the amount of noise using a scale factor. \n",
    "\n",
    "\n",
    "*Input:* Population of chromosomes\n",
    "*Output:* Population of chromosomes that had added noise. And then normalised to add back to one. "
   ]
  },
  {
   "cell_type": "code",
   "execution_count": 21,
   "metadata": {
    "deletable": false,
    "nbgrader": {
     "cell_type": "code",
     "checksum": "93e62324d5d5e002daa1498c0ac1721f",
     "grade": false,
     "grade_id": "genetic_algorithm_mutation",
     "locked": false,
     "schema_version": 3,
     "solution": true
    }
   },
   "outputs": [],
   "source": [
    "def mutation(population, scale_factor = 1):\n",
    "    final_population = []\n",
    "    for i in population:\n",
    "        noisy_chromosome = []\n",
    "        norm = []\n",
    "        for j in i:\n",
    "            n = j + np.random.normal(0, scale_factor)\n",
    "            if n < 0: \n",
    "                n = 0.000000000001\n",
    "                noisy_chromosome.append(n)\n",
    "            else:\n",
    "                noisy_chromosome.append(n)\n",
    "\n",
    "        for i in noisy_chromosome:\n",
    "            norm.append(i/sum(noisy_chromosome))\n",
    "\n",
    "        final_population.append(norm)\n",
    "\n",
    "    return final_population"
   ]
  },
  {
   "cell_type": "code",
   "execution_count": 22,
   "metadata": {
    "deletable": false,
    "editable": false,
    "nbgrader": {
     "cell_type": "code",
     "checksum": "414be541267053f1ce81c720c5af4238",
     "grade": true,
     "grade_id": "genetic_algorithm_mutation_test",
     "locked": true,
     "points": 3,
     "schema_version": 3,
     "solution": false
    }
   },
   "outputs": [],
   "source": [
    "population = [[0,1]]\n",
    "output = mutation(population)\n",
    "assert len(output) == 1\n",
    "assert len(output[0]) == 2\n",
    "assert np.isclose(np.sum(output[0]),1.0)\n",
    "assert output[0][0] != population[0][0]\n",
    "population = [[0,0.4,0.6]]\n",
    "output = mutation(population)\n",
    "assert len(output) == 1\n",
    "assert len(output[0]) == 3\n",
    "assert np.isclose(np.sum(output[0]),1.0)\n",
    "assert output[0][0]  > 0"
   ]
  },
  {
   "cell_type": "markdown",
   "metadata": {},
   "source": [
    "### 2.3.3 Putting it all together"
   ]
  },
  {
   "cell_type": "code",
   "execution_count": 23,
   "metadata": {},
   "outputs": [],
   "source": [
    "num_stocks = 40\n",
    "population_size = 100\n",
    "num_iterations = 100\n",
    "budget = 1000000\n",
    "# Stock prices from the last day of January 2020\n",
    "stock_prices_timeline = df.loc[\"2020-01-31\":]"
   ]
  },
  {
   "cell_type": "code",
   "execution_count": 24,
   "metadata": {
    "deletable": false,
    "editable": false,
    "nbgrader": {
     "cell_type": "code",
     "checksum": "4c531b4c7c0eaa29fba0ab9bdb2398f1",
     "grade": false,
     "grade_id": "cell-81c838ead59bec89",
     "locked": true,
     "schema_version": 3,
     "solution": false,
     "task": false
    },
    "scrolled": false
   },
   "outputs": [
    {
     "name": "stdout",
     "output_type": "stream",
     "text": [
      "Distances:  [1054990.8039300418, 965360.9977641997, 1018942.3039933143, 1037987.0667393568, 1026996.2118109141]\n",
      "Population:  [[6.77245848618532e-14, 6.77245848618532e-14, 0.016805269053024242, 0.022893653066649707, 6.77245848618532e-14, 6.77245848618532e-14, 0.01062336772241024, 6.77245848618532e-14, 0.024817453427549027, 6.77245848618532e-14, 0.10682571239288995, 0.07666701227157445, 0.03412618205682917, 6.77245848618532e-14, 0.08033467440598331, 0.09170135496762477, 0.03690981163620749, 6.77245848618532e-14, 6.77245848618532e-14, 0.005873434238882088, 6.77245848618532e-14, 0.0008326231963514386, 6.77245848618532e-14, 6.77245848618532e-14, 0.028128138512027615, 6.77245848618532e-14, 0.05808593555164221, 6.77245848618532e-14, 6.77245848618532e-14, 0.023570192849345497, 0.09903777285429455, 0.029032054479256927, 0.06532746931760287, 0.007177547390436645, 0.0767156836372312, 0.029860461440298337, 0.07465419553066885, 6.77245848618532e-14, 6.77245848618532e-14, 6.77245848618532e-14], [6.180740444393004e-14, 6.180740444393004e-14, 6.180740444393004e-14, 6.180740444393004e-14, 0.006133675070323916, 6.180740444393004e-14, 6.180740444393004e-14, 6.180740444393004e-14, 0.15573040589273093, 6.180740444393004e-14, 6.180740444393004e-14, 0.06154356880931097, 0.0323752899735796, 6.180740444393004e-14, 6.180740444393004e-14, 0.011738757337476423, 0.004356787255829274, 0.08005943684336181, 0.05214250603633289, 0.0367411989406772, 0.08366975422089304, 0.04166297744647211, 0.017694565267894397, 0.06172868605238115, 6.180740444393004e-14, 6.180740444393004e-14, 0.033475807134639546, 0.02726898160797787, 6.180740444393004e-14, 0.0323726163274298, 6.180740444393004e-14, 6.180740444393004e-14, 6.180740444393004e-14, 0.09431216752193176, 6.180740444393004e-14, 0.04953951089360714, 6.180740444393004e-14, 0.11139276166573119, 6.180740444393004e-14, 0.006060545700182647]]\n",
      "Best chromosome:  [1.500437472629926e-13, 0.05509009872235112, 0.01443248735288607, 0.0038411676420113047, 1.500437472629926e-13, 0.028911440851858414, 1.500437472629926e-13, 1.500437472629926e-13, 1.500437472629926e-13, 1.500437472629926e-13, 0.08975740985538218, 1.500437472629926e-13, 1.500437472629926e-13, 1.500437472629926e-13, 0.02167454574262646, 0.013583654094923018, 0.27585489769413374, 1.500437472629926e-13, 1.500437472629926e-13, 0.13367974864969417, 1.500437472629926e-13, 1.500437472629926e-13, 0.007792358000498144, 1.500437472629926e-13, 1.500437472629926e-13, 1.500437472629926e-13, 0.06772034473844846, 1.500437472629926e-13, 1.500437472629926e-13, 0.07234580822038655, 1.500437472629926e-13, 1.500437472629926e-13, 1.500437472629926e-13, 1.500437472629926e-13, 0.19678337963532705, 1.500437472629926e-13, 1.500437472629926e-13, 1.500437472629926e-13, 0.018532658795571987, 1.500437472629926e-13]\n",
      "Best (shortest) distance:  1201788.1659052384\n"
     ]
    }
   ],
   "source": [
    "# Genetic Algorithm\n",
    "population= initialise_population(population_size=population_size, chromosome_size=num_stocks)\n",
    "best_performance = -1000000\n",
    "best_chromosome = []\n",
    "best_performance_history = []\n",
    "performance_history = []\n",
    "for i in range(num_iterations):\n",
    "    # Calculate the fitness of all chromosomes in the population\n",
    "    performances = calculate_fitness(population, budget, stock_prices_timeline)\n",
    "    # If the new population has the best distance, save it.\n",
    "    if np.max(performances) > best_performance:\n",
    "        best_performance = np.max(performances)\n",
    "        best = np.argmax(performances)\n",
    "        best_chromosome = population[best]\n",
    "        best_performance_history.append(best_performance)\n",
    "    performance_history.append(np.mean(performances))\n",
    "    # 1. Do selection\n",
    "    selected_population = selection(population, performances)\n",
    "    # 2. Pair the good chromosomes \n",
    "    pairs = pairing(selected_population)\n",
    "    # 3. Reproduce with cross over\n",
    "    crossed_over = cross_over(pairs)\n",
    "    # 4. Add some randomness with mutation\n",
    "    population = mutation(crossed_over)\n",
    "\n",
    "performances = calculate_fitness(population, budget, stock_prices_timeline)\n",
    "# If the new population has the best distance, save it.\n",
    "if np.max(performances) > best_performance:\n",
    "    best_performance = np.max(performances)\n",
    "    best = np.argmax(performances)\n",
    "    best_chromosome = population[best]\n",
    "    best_performance_history.append(best_performance)\n",
    "performance_history.append(np.mean(performances))\n",
    "print(\"Distances: \" ,performances[:5])\n",
    "print(\"Population: \",population[:2])\n",
    "print(\"Best chromosome: \",best_chromosome)\n",
    "print(\"Best (shortest) distance: \",best_performance)"
   ]
  },
  {
   "cell_type": "code",
   "execution_count": 25,
   "metadata": {
    "deletable": false,
    "editable": false,
    "nbgrader": {
     "cell_type": "code",
     "checksum": "0b730adb8fa0fb297d5d1640d36eef4f",
     "grade": false,
     "grade_id": "cell-dc6bfc8f025faa37",
     "locked": true,
     "schema_version": 3,
     "solution": false,
     "task": false
    }
   },
   "outputs": [],
   "source": [
    "stock_weighting = adjust_stocks_by_weighting(budget ,best_chromosome, stock_prices_timeline.iloc[0].values)\n",
    "stock_weighting_avg = adjust_stocks_by_weighting(budget ,np.ones(40)/40, stock_prices_timeline.iloc[0].values)"
   ]
  },
  {
   "cell_type": "code",
   "execution_count": 26,
   "metadata": {
    "deletable": false,
    "editable": false,
    "nbgrader": {
     "cell_type": "code",
     "checksum": "8ce79730bd11045c18c5b690f53a1051",
     "grade": false,
     "grade_id": "cell-ea4f9f56add47f92",
     "locked": true,
     "schema_version": 3,
     "solution": false,
     "task": false
    }
   },
   "outputs": [
    {
     "data": {
      "text/plain": [
       "<matplotlib.legend.Legend at 0x7fec5c9aadf0>"
      ]
     },
     "execution_count": 26,
     "metadata": {},
     "output_type": "execute_result"
    },
    {
     "data": {
      "image/png": "[encoded data removed]",
      "text/plain": [
       "<Figure size 1152x648 with 1 Axes>"
      ]
     },
     "metadata": {
      "needs_background": "light"
     },
     "output_type": "display_data"
    }
   ],
   "source": [
    "avg = stock_weighting*stock_prices_timeline\n",
    "avg.sum(axis=1).plot(figsize=(16,9), label='best chromosome',linewidth=4)\n",
    "equally = stock_weighting_avg*stock_prices_timeline\n",
    "equally.sum(axis=1).plot(figsize=(16,9), color='r', label='equally weighted',linewidth=4)\n",
    "plt.grid()\n",
    "plt.legend()"
   ]
  },
  {
   "cell_type": "code",
   "execution_count": 27,
   "metadata": {
    "deletable": false,
    "editable": false,
    "nbgrader": {
     "cell_type": "code",
     "checksum": "fa3c42bad99bc011b364f17ba815702e",
     "grade": false,
     "grade_id": "cell-3747fffc3e65c430",
     "locked": true,
     "schema_version": 3,
     "solution": false,
     "task": false
    },
    "scrolled": false
   },
   "outputs": [
    {
     "data": {
      "text/plain": [
       "Text(0.5, 0, 'Sample number')"
      ]
     },
     "execution_count": 27,
     "metadata": {},
     "output_type": "execute_result"
    },
    {
     "data": {
      "image/png": "[encoded data removed]",
      "text/plain": [
       "<Figure size 864x360 with 1 Axes>"
      ]
     },
     "metadata": {
      "needs_background": "light"
     },
     "output_type": "display_data"
    }
   ],
   "source": [
    "plt.figure(figsize= (12,5))\n",
    "plt.plot(best_performance_history,linewidth=4)\n",
    "plt.title(\"History of best performance found\")\n",
    "plt.grid()\n",
    "plt.xlabel(\"Sample number\")"
   ]
  },
  {
   "cell_type": "code",
   "execution_count": 28,
   "metadata": {
    "deletable": false,
    "editable": false,
    "nbgrader": {
     "cell_type": "code",
     "checksum": "346550a6af379760aee9111c5463aaca",
     "grade": false,
     "grade_id": "cell-25c1edcc0cba1f4a",
     "locked": true,
     "schema_version": 3,
     "solution": false,
     "task": false
    }
   },
   "outputs": [
    {
     "data": {
      "text/plain": [
       "Text(0.5, 0, 'Sample number')"
      ]
     },
     "execution_count": 28,
     "metadata": {},
     "output_type": "execute_result"
    },
    {
     "data": {
      "image/png": "[encoded data removed]",
      "text/plain": [
       "<Figure size 1008x360 with 1 Axes>"
      ]
     },
     "metadata": {
      "needs_background": "light"
     },
     "output_type": "display_data"
    }
   ],
   "source": [
    "plt.figure(figsize= (14,5))\n",
    "plt.plot(performance_history,linewidth=2)\n",
    "plt.title(\"History of means all performances explored\")\n",
    "plt.grid()\n",
    "plt.xlabel(\"Sample number\")"
   ]
  },
  {
   "cell_type": "markdown",
   "metadata": {
    "deletable": false,
    "editable": false,
    "nbgrader": {
     "cell_type": "markdown",
     "checksum": "7dc10a8fdffb0bbb13e728e5092ddbd7",
     "grade": false,
     "grade_id": "cell-214e77566dd2f379",
     "locked": true,
     "schema_version": 3,
     "solution": false,
     "task": false
    }
   },
   "source": [
    "### 2.4 Observations [10 points]\n",
    "1. What do you observe with the behaviour of the Genetic Algorithm in this case? [2 points]\n",
    "2. From HW 3 part 3, what are the most interesting changes for you [2points]\n",
    "3. How would you improve the fitness function, how would you add the cost, how would you improve the mutattion [6 points]. Try this and report."
   ]
  },
  {
   "cell_type": "markdown",
   "metadata": {
    "deletable": false,
    "nbgrader": {
     "cell_type": "markdown",
     "checksum": "108f078fe476924cc3ed93e885851b56",
     "grade": true,
     "grade_id": "cell-b18babac77be4eed",
     "locked": false,
     "points": 10,
     "schema_version": 3,
     "solution": true
    }
   },
   "source": [
    "1. This algorithm consisted of a much more complicated chromosome structure than the travelling salesman chromosome, as we were no longer restricted to integers for our gene values. Another thing which was noticed was that the algorithm often performed poorly with the initial noise scale factor of 0.01. I suspect this is because our search space was restricted to a small range and causing our algorithm to get caught in a local max which was much lower than the global max.\n",
    "\n",
    "2. This algorthim used an interesting appraoch to breeding the chromosomes and mutating them, using a weighted average of parents and a normal distribution for mutation seems like a more natural way to create the next generation, rather than just swapping exact values like we did in HW3. Obviously HW3 required a method like this since the gene values needed to be integers, but I believe that the method used in HW3 would not have been as effective in predicting stock combinations as the weighted average method.\n",
    "\n",
    "\n",
    "3. To improve th fitness function I would possbily use price to earnings ratio or earnings per share ratio to encourage the algortihm to maximise profit and minimise cost simultaneously rather than just maximising profit as it is currently doing. To imporve the cost function I would calculate costs on a monthly basis as stated in the question and I would use the exact value, not the daily average. For the mutation function I would use a much higher scale factor (around 1.0) to expand the search region and prevent getting stuck on a local max, furthermore, if the addition of noise resulted in a negative stock weighting, I would allow the algorthim to set this equal to 0, so that it can try combinations with various numbers of unique stocks rather than being constrained to 40. Lastly, I would change the pairing process to be a roulette wheel where each chromosome is allocated a spot in proportion to its fitness, this would increase the chances of the best individuals getting paired together rather than pairing them all randomly."
   ]
  }
 ],
 "metadata": {
  "kernelspec": {
   "display_name": "Python 3",
   "language": "python",
   "name": "python3"
  },
  "language_info": {
   "codemirror_mode": {
    "name": "ipython",
    "version": 3
   },
   "file_extension": ".py",
   "mimetype": "text/x-python",
   "name": "python",
   "nbconvert_exporter": "python",
   "pygments_lexer": "ipython3",
   "version": "3.8.3"
  }
 },
 "nbformat": 4,
 "nbformat_minor": 2
}
