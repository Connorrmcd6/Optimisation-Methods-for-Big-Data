{
 "cells": [
  {
   "cell_type": "markdown",
   "metadata": {},
   "source": [
    "Before you turn this problem in, make sure everything runs as expected. First, **restart the kernel** (in the menubar, select Kernel$\\rightarrow$Restart) and then **run all cells** (in the menubar, select Cell$\\rightarrow$Run All).\n",
    "\n",
    "Make sure you fill in any place that says `YOUR CODE HERE` or \"YOUR ANSWER HERE\", as well as your name and collaborators below:"
   ]
  },
  {
   "cell_type": "code",
   "execution_count": 1,
   "metadata": {},
   "outputs": [],
   "source": [
    "NAME = \"Connor McDonald\"\n",
    "StudentNumber = \"u16040725\""
   ]
  },
  {
   "cell_type": "markdown",
   "metadata": {},
   "source": [
    "---"
   ]
  },
  {
   "cell_type": "markdown",
   "metadata": {},
   "source": [
    "# MIT 804 2021: Homework 3, part 5 [25 points]\n",
    "## Swarm Intelligence\n",
    "\n",
    "**You will learn how to:**\n",
    "- Look at swarm intelligence\n",
    "- Understand the effect of parameters on performance"
   ]
  },
  {
   "cell_type": "code",
   "execution_count": 2,
   "metadata": {},
   "outputs": [],
   "source": [
    "import numpy as np\n",
    "import matplotlib.pyplot as plt"
   ]
  },
  {
   "cell_type": "markdown",
   "metadata": {},
   "source": [
    "## 1 The particle\n",
    "\n",
    "Given that we need to have multiple particles, we will first start with a simple particle. For this part of the homework the full particle is defined for you in a [Python Class](https://docs.python.org/3/tutorial/classes.html). As such you need to just look at the lecture notes from lecture 3 to understand how this particle is constructed as well as the major procedures such as **velocity** and **position** updates. \n",
    "\n",
    "See the Scholarpedia article on PSO - [http://www.scholarpedia.org/article/Particle_swarm_optimization](http://www.scholarpedia.org/article/Particle_swarm_optimization)"
   ]
  },
  {
   "cell_type": "code",
   "execution_count": 3,
   "metadata": {},
   "outputs": [],
   "source": [
    "class Particle:\n",
    "    def __init__(self, num_dim, w =0.1, phi_p  = 0.1, phi_g  = 0.1):\n",
    "        \"\"\"\n",
    "        Initialising what is happening in the particle. See https://en.wikipedia.org/wiki/Particle_swarm_optimization \n",
    "        or http://www.scholarpedia.org/article/Particle_swarm_optimization\n",
    "        \"\"\"\n",
    "        self.position = self.initialise_position(num_dim=num_dim)\n",
    "        self.velocity = 0.1*self.initialise_position(num_dim=num_dim)\n",
    "        self.position_best = []       \n",
    "        self.error_best = []     \n",
    "        self.error = []  \n",
    "        self.w = w\n",
    "        self.phi_p = phi_p \n",
    "        self.phi_g = phi_g \n",
    "        self.num_dim = num_dim\n",
    "\n",
    "    def initialise_position(self, num_dim, limit = 10):\n",
    "        \"\"\"\n",
    "        Returns a random initialisation of the position of the particle\n",
    "        \"\"\"\n",
    "        X = np.random.uniform(-1*limit,limit,size=num_dim)\n",
    "        return X\n",
    "    \n",
    "    def calculate_fitness(self, evaluation_function):\n",
    "        \"\"\"\n",
    "        Evaluates the fitness function at the particles current position\n",
    "        \"\"\"\n",
    "        self.error = evaluation_function(self.position)\n",
    "        if self.error > self.error_best or self.error_best == []:\n",
    "            self.position_best = self.position\n",
    "            self.error_best = self.error\n",
    "\n",
    "    def update_velocity(self, position_best_swarm):\n",
    "        \"\"\"\n",
    "        Calculates the new velocity of the particle given its current best in its memory, \n",
    "        what the best in the swarm is and what its current update should be\n",
    "        \"\"\"\n",
    "        for i in range(self.num_dim):\n",
    "            r1 = np.random.random()\n",
    "            r2 = np.random.random()\n",
    "            # Q1 update equation. http://www.scholarpedia.org/article/Particle_swarm_optimization\n",
    "            velocity_own_best = self.phi_p*r1*(self.position_best[i] - self.position[i])\n",
    "            velocity_group_best = self.phi_g*r2*(position_best_swarm[i] - self.position[i])\n",
    "            self.velocity[i] = self.w*self.velocity[i] + velocity_own_best +  velocity_group_best\n",
    "\n",
    "    def update_position(self):\n",
    "        \"\"\"\n",
    "        Updates the position of the particle given the velocity\n",
    "        \"\"\"\n",
    "        self.position = self.position + self.velocity"
   ]
  },
  {
   "cell_type": "markdown",
   "metadata": {
    "deletable": false,
    "editable": false,
    "nbgrader": {
     "cell_type": "markdown",
     "checksum": "bf66092e7b37b32f12e4985070db6bd6",
     "grade": false,
     "grade_id": "cell-fd4b803c0e316c71",
     "locked": true,
     "points": 4,
     "schema_version": 3,
     "solution": false,
     "task": true
    }
   },
   "source": [
    "Look at Q1 above , what happens when. You do not need to run the algorithm. you just have to write how the algorithm changes if you make these changes:\n",
    "1. You set self.phi_p = 0 [1 point]\n",
    "2. You set self.phi_p and self.phi_g = 0 [2 points]\n",
    "3. You set self.w = 0 [1 point]"
   ]
  },
  {
   "cell_type": "markdown",
   "metadata": {
    "deletable": false,
    "nbgrader": {
     "cell_type": "markdown",
     "checksum": "e83322f0a0398bc682784b43037e1f8a",
     "grade": true,
     "grade_id": "pso-particle",
     "locked": false,
     "points": 0,
     "schema_version": 3,
     "solution": true,
     "task": false
    }
   },
   "source": [
    "1. The velocity of each particle would only be determined by its own momentum and the location of the swarms best position, this would create faster convergence but may cause the algorithm to get stuck on local extrema as the search range is reduced.\n",
    "\n",
    "2. The velocity of each particle would only be determined by its initial momentum and the particles never change direction, they would only change the speed in which they travel in this intial direction due to the random components. There would be no convergence of particles and the variance of optimal points between each run would be high as particle movement is essentially random.\n",
    "\n",
    "3. The particles' velocity would not make use of the particles' momentum, this would cause faster convergence, however the search range would shrink, this may lead to settling on local extrema. "
   ]
  },
  {
   "cell_type": "markdown",
   "metadata": {},
   "source": [
    "# 2 Fitness Functions\n",
    "\n",
    "We revisit fitness functions that should look familiar. "
   ]
  },
  {
   "cell_type": "code",
   "execution_count": 4,
   "metadata": {},
   "outputs": [],
   "source": [
    "def fitness_function_2d(X):\n",
    "    output = -1.0*(X[0]**2 + X[1]**2) # np.square(x)\n",
    "    return output\n",
    "\n",
    "def fitness_function_noisy(X):\n",
    "    x1 = X[0]\n",
    "    x2 = X[1]\n",
    "    output = np.exp(np.sin(50.0*x1)) + np.sin(60*np.exp(x2)) + np.sin(70.0*np.sin(x1)) + np.sin(np.sin(80.0*x2)) - np.sin(10.0*(x1+x2))+0.25*(x1**2 + x2**2)\n",
    "    return -1.0*output"
   ]
  },
  {
   "cell_type": "markdown",
   "metadata": {},
   "source": [
    "# Main PSO + Observations [20 Marks]\n",
    "\n",
    "In this section you are asked to run the PSO and also observe the behaviour of the algorithm under different parameters. It is assumed that you have succesfully implemented similar functions for the other optimisation problems in the homework and as such this section is for you to understand how parameters impact the performance of the algorithm.\n",
    "\n",
    "In the next cell, note Q1, Q2, Q3 and answer them in the cell after. "
   ]
  },
  {
   "cell_type": "code",
   "execution_count": 5,
   "metadata": {
    "deletable": false,
    "editable": false,
    "nbgrader": {
     "cell_type": "code",
     "checksum": "dc6b023957a289a3817b0f59e466bb21",
     "grade": false,
     "grade_id": "understand_loops",
     "locked": true,
     "schema_version": 3,
     "solution": false,
     "task": false
    }
   },
   "outputs": [],
   "source": [
    "def run_PSO(num_dim, fitness_function, num_particles = 10, max_iterations = 10, \n",
    "            w =0.1, phi_p  = 0.1, phi_g  = 0.1):\n",
    "    \"\"\"\n",
    "    Runs the PSO algorithm. It has a few parameters that can be set.\n",
    "    \"\"\"    \n",
    "    best_swarm_fitness_value = []\n",
    "    best_swarm_position = []     \n",
    "    best_swarm_fitness_value_history = []\n",
    "    average_swarm_fitness= []\n",
    "    std_swarm_fitness= []\n",
    "    # Create the Swarm\n",
    "    swarm=[]\n",
    "    for i in range(num_particles):\n",
    "        swarm.append(Particle(num_dim, w =w, phi_p  = phi_p, phi_g  = phi_g))\n",
    "    \n",
    "    # Run the algorithm\n",
    "    for i in range(max_iterations):\n",
    "        \n",
    "        \n",
    "        swarm_error_tally = []\n",
    "        ## Q2.2: What does this outer loop do? [2 points]\n",
    "        for j in range(num_particles):\n",
    "            swarm[j].calculate_fitness(fitness_function)\n",
    "            ## Q2.1: What does this inner loop do? [2 points]\n",
    "            if swarm[j].error > best_swarm_fitness_value or best_swarm_fitness_value == []:\n",
    "                best_swarm_position = swarm[j].position.copy()\n",
    "                best_swarm_fitness_value = swarm[j].error\n",
    "                best_swarm_fitness_value_history.append(best_swarm_fitness_value)\n",
    "            swarm_error_tally.append(swarm[j].error)\n",
    "        average_swarm_fitness.append(np.mean(swarm_error_tally))\n",
    "        std_swarm_fitness.append(np.std(swarm_error_tally))\n",
    "        \n",
    "        ## Q2.3 What does this loop do? [2 points]\n",
    "        for j in range(num_particles):\n",
    "            swarm[j].update_velocity(best_swarm_position)\n",
    "            swarm[j].update_position()\n",
    "            \n",
    "    return best_swarm_position, average_swarm_fitness, std_swarm_fitness, best_swarm_fitness_value_history"
   ]
  },
  {
   "cell_type": "markdown",
   "metadata": {
    "deletable": false,
    "nbgrader": {
     "cell_type": "markdown",
     "checksum": "d14ef829f0fb9637730b68ca91154ea8",
     "grade": true,
     "grade_id": "loop_section",
     "locked": false,
     "points": 6,
     "schema_version": 3,
     "solution": true,
     "task": false
    }
   },
   "source": [
    "## Please answer Q2.1, Q2.2 and Q2.3 in this cell. \n",
    "2.1) This inner loop calculates the fitness of each particle and compares it to the previous best fitness, if the particle is more fit than the previous best then it updates the best fitness value and the position of that best fitness value, whilst also adding the fitness value to a list of previous fitness values for comparison purposes.\n",
    "\n",
    "2.2) This outer loop ensures that the algorthim terminates after a certain number of iterations as it may take excessively long to converge on a single point due to the momentum component causing particles to overshoot slightly. In most cases, at least one of the particles would have gotten close enough to the optimal point to in the set number of iterations to produce an acceptable point, and so we do not need to wait for total convergence. \n",
    "\n",
    "2.3) This loop updates the velocity of each particle based on the best position the swarm has found so far, it then uses this new velocity to calculate the position of each particle after the current iteration has completed."
   ]
  },
  {
   "cell_type": "markdown",
   "metadata": {
    "deletable": false,
    "editable": false,
    "nbgrader": {
     "cell_type": "markdown",
     "checksum": "b816feb866ef8a5b83091e8af91f33e6",
     "grade": false,
     "grade_id": "cell-3a21b1f4d2c895a6",
     "locked": true,
     "schema_version": 3,
     "solution": false,
     "task": false
    }
   },
   "source": [
    "### 2D Fitness Function with PSO"
   ]
  },
  {
   "cell_type": "code",
   "execution_count": 6,
   "metadata": {},
   "outputs": [
    {
     "name": "stderr",
     "output_type": "stream",
     "text": [
      "<ipython-input-3-c94a5656939f>:29: DeprecationWarning: The truth value of an empty array is ambiguous. Returning False, but in future this will result in an error. Use `array.size > 0` to check that an array is not empty.\n",
      "  if self.error > self.error_best or self.error_best == []:\n",
      "<ipython-input-5-0c49b5f7f29c>:25: DeprecationWarning: The truth value of an empty array is ambiguous. Returning False, but in future this will result in an error. Use `array.size > 0` to check that an array is not empty.\n",
      "  if swarm[j].error > best_swarm_fitness_value or best_swarm_fitness_value == []:\n"
     ]
    }
   ],
   "source": [
    "num_dim = 2\n",
    "num_particles = 10\n",
    "max_iterations = 100\n",
    "w =0.1\n",
    "phi_p  = 2\n",
    "phi_g  = 0.1\n",
    "best_swarm_position_2D, average_swarm_fitness_2D,std_swarm_fitness_2D, best_swarm_fitness_value_history_2D = run_PSO(num_dim,fitness_function_2d, \n",
    "                                                                num_particles=num_particles, \n",
    "                                                                max_iterations=max_iterations,\n",
    "                                                                w =w, phi_p  = phi_p, phi_g  = phi_g)"
   ]
  },
  {
   "cell_type": "code",
   "execution_count": 7,
   "metadata": {},
   "outputs": [
    {
     "data": {
      "text/plain": [
       "Text(0.5, 1.0, 'History of best_fitness_value saves - 2D')"
      ]
     },
     "execution_count": 7,
     "metadata": {},
     "output_type": "execute_result"
    },
    {
     "data": {
      "image/png": "[encoded data removed]",
      "text/plain": [
       "<Figure size 1152x648 with 1 Axes>"
      ]
     },
     "metadata": {
      "needs_background": "light"
     },
     "output_type": "display_data"
    }
   ],
   "source": [
    "plt.figure(figsize=(16,9)) # Set the figure size\n",
    "plt.plot(best_swarm_fitness_value_history_2D,linewidth=3)\n",
    "plt.grid()\n",
    "# Label the plot\n",
    "plt.xlabel(\"save step\")\n",
    "plt.ylabel(\"fitness - noisy\")\n",
    "plt.title(\"History of best_fitness_value saves - 2D\")"
   ]
  },
  {
   "cell_type": "code",
   "execution_count": 8,
   "metadata": {},
   "outputs": [
    {
     "data": {
      "text/plain": [
       "Text(0.5, 1.0, 'History of average fitness across the whole swarm - 2D')"
      ]
     },
     "execution_count": 8,
     "metadata": {},
     "output_type": "execute_result"
    },
    {
     "data": {
      "image/png": "[encoded data removed]",
      "text/plain": [
       "<Figure size 1152x648 with 1 Axes>"
      ]
     },
     "metadata": {
      "needs_background": "light"
     },
     "output_type": "display_data"
    }
   ],
   "source": [
    "plt.figure(figsize=(16,9)) # Set the figure size\n",
    "x = np.arange(max_iterations)\n",
    "plt.errorbar(x,average_swarm_fitness_2D,yerr=std_swarm_fitness_2D, linewidth=3)\n",
    "plt.grid()\n",
    "# Label the plot\n",
    "plt.xlabel(\"iteration\")\n",
    "plt.ylabel(\"fitness - noisy\")\n",
    "plt.title(\"History of average fitness across the whole swarm - 2D\")"
   ]
  },
  {
   "cell_type": "markdown",
   "metadata": {},
   "source": [
    "### Noisy Fitness Function with PSO"
   ]
  },
  {
   "cell_type": "code",
   "execution_count": 9,
   "metadata": {},
   "outputs": [
    {
     "name": "stderr",
     "output_type": "stream",
     "text": [
      "<ipython-input-3-c94a5656939f>:29: DeprecationWarning: The truth value of an empty array is ambiguous. Returning False, but in future this will result in an error. Use `array.size > 0` to check that an array is not empty.\n",
      "  if self.error > self.error_best or self.error_best == []:\n",
      "<ipython-input-5-0c49b5f7f29c>:25: DeprecationWarning: The truth value of an empty array is ambiguous. Returning False, but in future this will result in an error. Use `array.size > 0` to check that an array is not empty.\n",
      "  if swarm[j].error > best_swarm_fitness_value or best_swarm_fitness_value == []:\n"
     ]
    }
   ],
   "source": [
    "num_dim = 2\n",
    "num_particles = 20\n",
    "max_iterations = 100\n",
    "\n",
    "# Q3.2, You will experiment here with these values\n",
    "w =0.2\n",
    "phi_p  = 1.5\n",
    "phi_g  = 1.5\n",
    "best_swarm_position, average_swarm_fitness, std_swarm_fitness, best_swarm_fitness_value_history = run_PSO(num_dim,fitness_function_noisy, \n",
    "                                                                num_particles=num_particles, \n",
    "                                                                max_iterations=max_iterations,\n",
    "                                                                w =w, phi_p  = phi_p, phi_g  = phi_g)"
   ]
  },
  {
   "cell_type": "markdown",
   "metadata": {
    "deletable": false,
    "editable": false,
    "nbgrader": {
     "cell_type": "markdown",
     "checksum": "5693e03a5e9706cf87b49813ff33fd42",
     "grade": false,
     "grade_id": "cell-2d5540456df1d565",
     "locked": true,
     "schema_version": 3,
     "solution": false,
     "task": false
    }
   },
   "source": [
    "**Note** above that for Q3.2v(below) you will experiment in the box above and look at the plot changes below."
   ]
  },
  {
   "cell_type": "markdown",
   "metadata": {},
   "source": [
    "### Best Fitness Values for Noisy Fitness Function with PSO"
   ]
  },
  {
   "cell_type": "code",
   "execution_count": 10,
   "metadata": {
    "scrolled": true
   },
   "outputs": [
    {
     "data": {
      "text/plain": [
       "Text(0.5, 1.0, 'History of best_fitness_value saves - noisy')"
      ]
     },
     "execution_count": 10,
     "metadata": {},
     "output_type": "execute_result"
    },
    {
     "data": {
      "image/png": "[encoded data removed]",
      "text/plain": [
       "<Figure size 1152x648 with 1 Axes>"
      ]
     },
     "metadata": {
      "needs_background": "light"
     },
     "output_type": "display_data"
    }
   ],
   "source": [
    "plt.figure(figsize=(16,9)) # Set the figure size\n",
    "plt.plot(best_swarm_fitness_value_history,linewidth=3)\n",
    "plt.grid()\n",
    "# Label the plot\n",
    "plt.xlabel(\"save step\")\n",
    "plt.ylabel(\"fitness - noisy\")\n",
    "plt.title(\"History of best_fitness_value saves - noisy\")"
   ]
  },
  {
   "cell_type": "markdown",
   "metadata": {},
   "source": [
    "### Average Fitness Values for Noisy Fitness Function with PSO"
   ]
  },
  {
   "cell_type": "code",
   "execution_count": 11,
   "metadata": {
    "scrolled": true
   },
   "outputs": [
    {
     "data": {
      "text/plain": [
       "Text(0.5, 1.0, 'History of average fitness across the whole swarm - noisy')"
      ]
     },
     "execution_count": 11,
     "metadata": {},
     "output_type": "execute_result"
    },
    {
     "data": {
      "image/png": "[encoded data removed]",
      "text/plain": [
       "<Figure size 1152x648 with 1 Axes>"
      ]
     },
     "metadata": {
      "needs_background": "light"
     },
     "output_type": "display_data"
    }
   ],
   "source": [
    "plt.figure(figsize=(16,9)) # Set the figure size\n",
    "x = np.arange(max_iterations)\n",
    "plt.errorbar(x,average_swarm_fitness,yerr=std_swarm_fitness, linewidth=3)\n",
    "plt.grid()\n",
    "# Label the plot\n",
    "plt.xlabel(\"iteration\")\n",
    "plt.ylabel(\"fitness - noisy\")\n",
    "plt.title(\"History of average fitness across the whole swarm - noisy\")"
   ]
  },
  {
   "cell_type": "markdown",
   "metadata": {},
   "source": [
    "## 3.1 Observations [2D Fitness] [6 points]\n",
    "1. What is the effect of having a few particles (less than 10) with very few algorithm iterations on the 2D fitness? [2 points]\n",
    "2. What is the effect of having a many particles with high algorithm iterations on the 2D fitness? [2 points]\n",
    "3. What are the effects of changing the w, phi_g, phi_p variables. What happens when you change the values? [2 points]\n",
    "\n",
    "Investigate this by changing the parameters above and in the class."
   ]
  },
  {
   "cell_type": "markdown",
   "metadata": {
    "deletable": false,
    "nbgrader": {
     "cell_type": "markdown",
     "checksum": "9b5a9d491309a3a3d9f6300cb87bafd0",
     "grade": true,
     "grade_id": "2D-Fitness",
     "locked": false,
     "points": 6,
     "schema_version": 3,
     "solution": true
    }
   },
   "source": [
    "3.1.1) With very few particles and iterations, the algorithm is not given the time to explore its search space and thus only marginal improvements in fitness are observed.\n",
    "\n",
    "3.1.2) With a high number of particles and a lot of iterations to explore, the algorithm has a high probability of converging on a good solution, however this increases the run time of the algorithm as well as the computational intensity.\n",
    "\n",
    "3.1.3) When changing w, if we increase this value too much, the algorithm takes significantly longer to converge, I suspect this is because particles over shoot the optimal point when the swarm gathers around the point. Furthermore, when we make this value too small, the algorithm converges faster but risks getting stuck on a local extrema.\n",
    "\n",
    "when changing phi_g, it is observed that there is no convergence at all when we set this to 0, this is because the particles have no \"awareness\" of their surroundings and just wander aimlessly in the direction of their initial velocity. As we increase this parameter, convergence begins to happen faster, however less of the search space will be explored since each particles velocity becomes increasingly determined by the location of the swarms previous best position.\n",
    "\n",
    "Lastly when changing phi_p, if we set this value too low we see a a quicker convergence however, this low values of phi_p don't allow to algorithm to explore as much of the search space and so one must find a balance between exploration and exploitation when setting this parameter."
   ]
  },
  {
   "cell_type": "markdown",
   "metadata": {},
   "source": [
    "## 3.2 Observations [Noisy Fitness] [9 points]\n",
    "1. What is the effect of having a few particles (less than 10) with very few algorithm iterations on the Noisy fitness? [1 points]\n",
    "2. What is the effect of having a few particles with high algorithm iterations on the Noisy fitness? [1 points]\n",
    "3. What is the effect of having many particles with high algorithm iterations on the Noisy fitness? [1 points]\n",
    "4. What parameter values are able to improve the performance of the algorithm without a heavy computational penality - Experiment with changing values for phi_g, phi_p and w {limiting them between 0 < 2}. **(a)Record your best values for each** after a few experiments. **(b)What are the effects on the best fitness and average firness plots** [6 points]."
   ]
  },
  {
   "cell_type": "markdown",
   "metadata": {
    "deletable": false,
    "nbgrader": {
     "cell_type": "markdown",
     "checksum": "169d1c47c8ac11091564b0f4f846e88b",
     "grade": true,
     "grade_id": "Noisy-Fitness",
     "locked": false,
     "points": 9,
     "schema_version": 3,
     "solution": true
    }
   },
   "source": [
    "3.2.1) Much like with the 2D function the algorthim is not given enough resources to sufficiently explore the search region, and thus it only improves slightly, but remains far from an optimal point in most runs.\n",
    "\n",
    "3.2.2) With few particles and high iterations, we observe convergence although it is relatively slow as much more of the search region needs to be explored per particle to find an optimal solution.\n",
    "\n",
    "3.3.3) With both a large number of particles and a high number of iterations, we see rapid convergence (in terms of number of iterations) however it can get quite computationally intensive and could result in longer run times than algorthims with less particles/iterations for only a marginally better solution.\n",
    "\n",
    "3.2.4a) Best Parameter Values: w = 0.75, phi_p = 0.1, phi_g = 1.8 \n",
    "\n",
    "3.2.4b) By changing w from the default of 0.1 to 0.75 we see a slight decrease in convergence rate however our best fitness value is often better. We also observe a marginal improvement in the average fitness value, however it was noted that often when values were higher than 0.75 the average fitness value oscillated most likely because the particles were overshooting the optimal.\n",
    "\n",
    "When experimenting with the phi_p parameter, 0 actually showed the fastest and most optimal solution, however this restricts the level of exploration that the algortihm conducts, and so I discarded 0 as an option. The next best value was around the 0.1 which was also the default value conveniently. This value showed fast convergence on the best value plot and also resulted in a higher average fitness for the swarm than other values. Lasetly, I also noticed that going higher than 0.1 did not have much of an effect on the performance of the algorithm.\n",
    "\n",
    "Phi_g appeared to have the biggest effect on the performance of the algorithm, with a value of 1.8 I observed relatively fast convergence on the best fitness plot, however I also noticed that higher values often caused patches of huge variance in the average fitness of the swarm plot. I suspect this is because if a particle on the edge of the swarm finds a new best the entire swarm will gravitate rapidly to this new best, which could create a high velocity amoung particles, causing some to overshoot and explore some unsearched regions."
   ]
  }
 ],
 "metadata": {
  "kernelspec": {
   "display_name": "Python 3",
   "language": "python",
   "name": "python3"
  },
  "language_info": {
   "codemirror_mode": {
    "name": "ipython",
    "version": 3
   },
   "file_extension": ".py",
   "mimetype": "text/x-python",
   "name": "python",
   "nbconvert_exporter": "python",
   "pygments_lexer": "ipython3",
   "version": "3.8.3"
  }
 },
 "nbformat": 4,
 "nbformat_minor": 2
}
